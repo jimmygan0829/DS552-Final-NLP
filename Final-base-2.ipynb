{
 "cells": [
  {
   "cell_type": "code",
   "execution_count": 2,
   "metadata": {},
   "outputs": [],
   "source": [
    "import pandas as pd\n",
    "import tensorflow as tf\n",
    "import numpy as np\n",
    "import tensorflow_hub as hub\n",
    "\n",
    "import matplotlib.pyplot as plt\n",
    "%matplotlib inline"
   ]
  },
  {
   "cell_type": "code",
   "execution_count": 3,
   "metadata": {},
   "outputs": [],
   "source": [
    "dataText = pd.read_csv(\"./train140.csv\",encoding=\"latin-1\")"
   ]
  },
  {
   "cell_type": "code",
   "execution_count": 4,
   "metadata": {},
   "outputs": [
    {
     "name": "stdout",
     "output_type": "stream",
     "text": [
      "<class 'pandas.core.frame.DataFrame'>\n",
      "RangeIndex: 1600000 entries, 0 to 1599999\n",
      "Data columns (total 6 columns):\n",
      " #   Column    Non-Null Count    Dtype \n",
      "---  ------    --------------    ----- \n",
      " 0   label     1600000 non-null  int64 \n",
      " 1   id        1600000 non-null  int64 \n",
      " 2   datetime  1600000 non-null  object\n",
      " 3   query     1600000 non-null  object\n",
      " 4   user      1600000 non-null  object\n",
      " 5   text      1600000 non-null  object\n",
      "dtypes: int64(2), object(4)\n",
      "memory usage: 73.2+ MB\n"
     ]
    }
   ],
   "source": [
    "dataText.info()"
   ]
  },
  {
   "cell_type": "code",
   "execution_count": 5,
   "metadata": {},
   "outputs": [
    {
     "data": {
      "text/plain": [
       "4    800000\n",
       "0    800000\n",
       "Name: label, dtype: int64"
      ]
     },
     "execution_count": 5,
     "metadata": {},
     "output_type": "execute_result"
    }
   ],
   "source": [
    "dataText[\"label\"].value_counts()"
   ]
  },
  {
   "cell_type": "code",
   "execution_count": 6,
   "metadata": {},
   "outputs": [],
   "source": [
    "testData = pd.read_csv(\"./test140.csv\",encoding=\"latin-1\")"
   ]
  },
  {
   "cell_type": "code",
   "execution_count": 7,
   "metadata": {},
   "outputs": [
    {
     "data": {
      "text/plain": [
       "4    182\n",
       "0    177\n",
       "2    139\n",
       "Name: label, dtype: int64"
      ]
     },
     "execution_count": 7,
     "metadata": {},
     "output_type": "execute_result"
    }
   ],
   "source": [
    "testData[\"label\"].value_counts()"
   ]
  },
  {
   "cell_type": "code",
   "execution_count": 8,
   "metadata": {},
   "outputs": [
    {
     "name": "stdout",
     "output_type": "stream",
     "text": [
      "<class 'pandas.core.frame.DataFrame'>\n",
      "RangeIndex: 498 entries, 0 to 497\n",
      "Data columns (total 6 columns):\n",
      " #   Column    Non-Null Count  Dtype \n",
      "---  ------    --------------  ----- \n",
      " 0   label     498 non-null    int64 \n",
      " 1   id        498 non-null    int64 \n",
      " 2   datetime  498 non-null    object\n",
      " 3   query     498 non-null    object\n",
      " 4   user      498 non-null    object\n",
      " 5   text      498 non-null    object\n",
      "dtypes: int64(2), object(4)\n",
      "memory usage: 23.5+ KB\n"
     ]
    }
   ],
   "source": [
    "testData.info()"
   ]
  },
  {
   "cell_type": "code",
   "execution_count": 9,
   "metadata": {},
   "outputs": [
    {
     "data": {
      "text/html": [
       "<div>\n",
       "<style scoped>\n",
       "    .dataframe tbody tr th:only-of-type {\n",
       "        vertical-align: middle;\n",
       "    }\n",
       "\n",
       "    .dataframe tbody tr th {\n",
       "        vertical-align: top;\n",
       "    }\n",
       "\n",
       "    .dataframe thead th {\n",
       "        text-align: right;\n",
       "    }\n",
       "</style>\n",
       "<table border=\"1\" class=\"dataframe\">\n",
       "  <thead>\n",
       "    <tr style=\"text-align: right;\">\n",
       "      <th></th>\n",
       "      <th>label</th>\n",
       "      <th>id</th>\n",
       "      <th>datetime</th>\n",
       "      <th>query</th>\n",
       "      <th>user</th>\n",
       "      <th>text</th>\n",
       "    </tr>\n",
       "  </thead>\n",
       "  <tbody>\n",
       "    <tr>\n",
       "      <th>0</th>\n",
       "      <td>0</td>\n",
       "      <td>1467810369</td>\n",
       "      <td>Mon Apr 06 22:19:45 PDT 2009</td>\n",
       "      <td>NO_QUERY</td>\n",
       "      <td>_TheSpecialOne_</td>\n",
       "      <td>@switchfoot http://twitpic.com/2y1zl - Awww, t...</td>\n",
       "    </tr>\n",
       "    <tr>\n",
       "      <th>1</th>\n",
       "      <td>0</td>\n",
       "      <td>1467810672</td>\n",
       "      <td>Mon Apr 06 22:19:49 PDT 2009</td>\n",
       "      <td>NO_QUERY</td>\n",
       "      <td>scotthamilton</td>\n",
       "      <td>is upset that he can't update his Facebook by ...</td>\n",
       "    </tr>\n",
       "    <tr>\n",
       "      <th>2</th>\n",
       "      <td>0</td>\n",
       "      <td>1467810917</td>\n",
       "      <td>Mon Apr 06 22:19:53 PDT 2009</td>\n",
       "      <td>NO_QUERY</td>\n",
       "      <td>mattycus</td>\n",
       "      <td>@Kenichan I dived many times for the ball. Man...</td>\n",
       "    </tr>\n",
       "    <tr>\n",
       "      <th>3</th>\n",
       "      <td>0</td>\n",
       "      <td>1467811184</td>\n",
       "      <td>Mon Apr 06 22:19:57 PDT 2009</td>\n",
       "      <td>NO_QUERY</td>\n",
       "      <td>ElleCTF</td>\n",
       "      <td>my whole body feels itchy and like its on fire</td>\n",
       "    </tr>\n",
       "    <tr>\n",
       "      <th>4</th>\n",
       "      <td>0</td>\n",
       "      <td>1467811193</td>\n",
       "      <td>Mon Apr 06 22:19:57 PDT 2009</td>\n",
       "      <td>NO_QUERY</td>\n",
       "      <td>Karoli</td>\n",
       "      <td>@nationwideclass no, it's not behaving at all....</td>\n",
       "    </tr>\n",
       "    <tr>\n",
       "      <th>...</th>\n",
       "      <td>...</td>\n",
       "      <td>...</td>\n",
       "      <td>...</td>\n",
       "      <td>...</td>\n",
       "      <td>...</td>\n",
       "      <td>...</td>\n",
       "    </tr>\n",
       "    <tr>\n",
       "      <th>1599995</th>\n",
       "      <td>4</td>\n",
       "      <td>2193601966</td>\n",
       "      <td>Tue Jun 16 08:40:49 PDT 2009</td>\n",
       "      <td>NO_QUERY</td>\n",
       "      <td>AmandaMarie1028</td>\n",
       "      <td>Just woke up. Having no school is the best fee...</td>\n",
       "    </tr>\n",
       "    <tr>\n",
       "      <th>1599996</th>\n",
       "      <td>4</td>\n",
       "      <td>2193601969</td>\n",
       "      <td>Tue Jun 16 08:40:49 PDT 2009</td>\n",
       "      <td>NO_QUERY</td>\n",
       "      <td>TheWDBoards</td>\n",
       "      <td>TheWDB.com - Very cool to hear old Walt interv...</td>\n",
       "    </tr>\n",
       "    <tr>\n",
       "      <th>1599997</th>\n",
       "      <td>4</td>\n",
       "      <td>2193601991</td>\n",
       "      <td>Tue Jun 16 08:40:49 PDT 2009</td>\n",
       "      <td>NO_QUERY</td>\n",
       "      <td>bpbabe</td>\n",
       "      <td>Are you ready for your MoJo Makeover? Ask me f...</td>\n",
       "    </tr>\n",
       "    <tr>\n",
       "      <th>1599998</th>\n",
       "      <td>4</td>\n",
       "      <td>2193602064</td>\n",
       "      <td>Tue Jun 16 08:40:49 PDT 2009</td>\n",
       "      <td>NO_QUERY</td>\n",
       "      <td>tinydiamondz</td>\n",
       "      <td>Happy 38th Birthday to my boo of alll time!!! ...</td>\n",
       "    </tr>\n",
       "    <tr>\n",
       "      <th>1599999</th>\n",
       "      <td>4</td>\n",
       "      <td>2193602129</td>\n",
       "      <td>Tue Jun 16 08:40:50 PDT 2009</td>\n",
       "      <td>NO_QUERY</td>\n",
       "      <td>RyanTrevMorris</td>\n",
       "      <td>happy #charitytuesday @theNSPCC @SparksCharity...</td>\n",
       "    </tr>\n",
       "  </tbody>\n",
       "</table>\n",
       "<p>1600000 rows × 6 columns</p>\n",
       "</div>"
      ],
      "text/plain": [
       "         label          id                      datetime     query  \\\n",
       "0            0  1467810369  Mon Apr 06 22:19:45 PDT 2009  NO_QUERY   \n",
       "1            0  1467810672  Mon Apr 06 22:19:49 PDT 2009  NO_QUERY   \n",
       "2            0  1467810917  Mon Apr 06 22:19:53 PDT 2009  NO_QUERY   \n",
       "3            0  1467811184  Mon Apr 06 22:19:57 PDT 2009  NO_QUERY   \n",
       "4            0  1467811193  Mon Apr 06 22:19:57 PDT 2009  NO_QUERY   \n",
       "...        ...         ...                           ...       ...   \n",
       "1599995      4  2193601966  Tue Jun 16 08:40:49 PDT 2009  NO_QUERY   \n",
       "1599996      4  2193601969  Tue Jun 16 08:40:49 PDT 2009  NO_QUERY   \n",
       "1599997      4  2193601991  Tue Jun 16 08:40:49 PDT 2009  NO_QUERY   \n",
       "1599998      4  2193602064  Tue Jun 16 08:40:49 PDT 2009  NO_QUERY   \n",
       "1599999      4  2193602129  Tue Jun 16 08:40:50 PDT 2009  NO_QUERY   \n",
       "\n",
       "                    user                                               text  \n",
       "0        _TheSpecialOne_  @switchfoot http://twitpic.com/2y1zl - Awww, t...  \n",
       "1          scotthamilton  is upset that he can't update his Facebook by ...  \n",
       "2               mattycus  @Kenichan I dived many times for the ball. Man...  \n",
       "3                ElleCTF    my whole body feels itchy and like its on fire   \n",
       "4                 Karoli  @nationwideclass no, it's not behaving at all....  \n",
       "...                  ...                                                ...  \n",
       "1599995  AmandaMarie1028  Just woke up. Having no school is the best fee...  \n",
       "1599996      TheWDBoards  TheWDB.com - Very cool to hear old Walt interv...  \n",
       "1599997           bpbabe  Are you ready for your MoJo Makeover? Ask me f...  \n",
       "1599998     tinydiamondz  Happy 38th Birthday to my boo of alll time!!! ...  \n",
       "1599999   RyanTrevMorris  happy #charitytuesday @theNSPCC @SparksCharity...  \n",
       "\n",
       "[1600000 rows x 6 columns]"
      ]
     },
     "execution_count": 9,
     "metadata": {},
     "output_type": "execute_result"
    }
   ],
   "source": [
    "dataText"
   ]
  },
  {
   "cell_type": "code",
   "execution_count": 10,
   "metadata": {},
   "outputs": [],
   "source": [
    "from tensorflow.keras.preprocessing.text import Tokenizer\n",
    "from tensorflow.keras.preprocessing.sequence import pad_sequences\n",
    "\n",
    "tokenizer1 = Tokenizer(num_words = 25000,oov_token='OOV',filters='!\"#$%&()*+,-./:;<=>@[\\]^_`{|}~ ')"
   ]
  },
  {
   "cell_type": "code",
   "execution_count": 11,
   "metadata": {},
   "outputs": [],
   "source": [
    "np.random.seed(44)\n",
    "N = len(dataText)\n",
    "shuffled_indices = np.random.permutation(N)\n",
    "dataLabelNum = dataText[\"label\"].copy()\n",
    "train_index = shuffled_indices[:int(N*0.9)]\n",
    "valid_index = shuffled_indices[int(N*0.9):]\n",
    "\n",
    "train_text = dataText.iloc[train_index]\n",
    "train_labelNum = dataLabelNum.iloc[train_index]\n",
    "\n",
    "valid_text = dataText.iloc[valid_index]\n",
    "valid_labelNum = dataLabelNum.iloc[valid_index]"
   ]
  },
  {
   "cell_type": "code",
   "execution_count": 12,
   "metadata": {},
   "outputs": [
    {
     "data": {
      "text/plain": [
       "(1545897    4\n",
       " 141842     0\n",
       " 1245796    4\n",
       " 785684     0\n",
       " 784358     0\n",
       "           ..\n",
       " 1146260    4\n",
       " 1198472    4\n",
       " 358495     0\n",
       " 891790     4\n",
       " 931128     4\n",
       " Name: label, Length: 1440000, dtype: int64,\n",
       " 1578239    4\n",
       " 285524     0\n",
       " 1129823    4\n",
       " 1594219    4\n",
       " 1292100    4\n",
       "           ..\n",
       " 641120     0\n",
       " 49723      0\n",
       " 156845     0\n",
       " 1305329    4\n",
       " 1586964    4\n",
       " Name: label, Length: 160000, dtype: int64,\n",
       "                                                       text\n",
       " 1545897  im sooooo funny ik! camp is so fun! iguess????...\n",
       " 141842                  offffft its rainingg so mucccccch \n",
       " 1245796                    emptying the inbox. #inboxZero \n",
       " 785684   Justine's gone from #Masterchef  will the show...\n",
       " 784358   mad is hell i got a drive 2 queens in like 2 h...\n",
       " ...                                                    ...\n",
       " 1146260  I have a feeling I'm too tired to sleep much  ...\n",
       " 1198472  Going to bed now. Tomorrow the course starts e...\n",
       " 358495   waiting for @jessoms to call me and tell me sh...\n",
       " 891790   @iamashlee Yeah, you should get one, so you ca...\n",
       " 931128   @Xi7 had a realistic dream, I think everyone h...\n",
       " \n",
       " [1440000 rows x 1 columns],\n",
       "                                                       text\n",
       " 1578239  Broadcasting Jersey Shore Catholic Radio at ht...\n",
       " 285524                       has so failed her maths exam \n",
       " 1129823                                @inertiarus thanks \n",
       " 1594219  watching royal ascot, cold beer, internet bett...\n",
       " 1292100  @TipSquirrel Hi Tipsy (new nickname, it'll pro...\n",
       " ...                                                    ...\n",
       " 641120                        @Miamoodles did i? :/ meany \n",
       " 49723    I was just checking Google Analytics (which I ...\n",
       " 156845   @Tomonthly  shut up. i'll kill yew. not really...\n",
       " 1305329  @Applez357 yes, yes I would and I'd lick my fi...\n",
       " 1586964  steph and i are planning to tell every single ...\n",
       " \n",
       " [160000 rows x 1 columns])"
      ]
     },
     "execution_count": 12,
     "metadata": {},
     "output_type": "execute_result"
    }
   ],
   "source": [
    "trainSet = train_text.drop(columns = ['id','datetime','query','user','label'])\n",
    "validSet = valid_text.drop(columns = ['id','datetime','query','user','label'])\n",
    "\n",
    "train_labelNum,valid_labelNum,trainSet,validSet"
   ]
  },
  {
   "cell_type": "markdown",
   "metadata": {},
   "source": [
    "due to the nature of the training set, this would be binary sentiment prediction, and will later set threshold on how to determine neutral label."
   ]
  },
  {
   "cell_type": "code",
   "execution_count": 13,
   "metadata": {},
   "outputs": [
    {
     "data": {
      "text/plain": [
       "(0      4\n",
       " 1      4\n",
       " 2      4\n",
       " 3      4\n",
       " 4      4\n",
       "       ..\n",
       " 493    2\n",
       " 494    0\n",
       " 495    4\n",
       " 496    0\n",
       " 497    0\n",
       " Name: label, Length: 498, dtype: int64,\n",
       " 0      @stellargirl I loooooooovvvvvveee my Kindle2. ...\n",
       " 1      Reading my kindle2...  Love it... Lee childs i...\n",
       " 2      Ok, first assesment of the #kindle2 ...it fuck...\n",
       " 3      @kenburbary You'll love your Kindle2. I've had...\n",
       " 4      @mikefish  Fair enough. But i have the Kindle2...\n",
       "                              ...                        \n",
       " 493    Ask Programming: LaTeX or InDesign?: submitted...\n",
       " 494    On that note, I hate Word. I hate Pages. I hat...\n",
       " 495    Ahhh... back in a *real* text editing environm...\n",
       " 496    Trouble in Iran, I see. Hmm. Iran. Iran so far...\n",
       " 497    Reading the tweets coming out of Iran... The w...\n",
       " Name: text, Length: 498, dtype: object)"
      ]
     },
     "execution_count": 13,
     "metadata": {},
     "output_type": "execute_result"
    }
   ],
   "source": [
    "test_labelNum = testData[\"label\"].copy()\n",
    "testSet = testData[\"text\"].copy()\n",
    "test_labelNum, testSet"
   ]
  },
  {
   "cell_type": "code",
   "execution_count": 14,
   "metadata": {},
   "outputs": [],
   "source": [
    "trainLabel = tf.one_hot(train_labelNum.to_numpy(),2).numpy()\n",
    "validLabel = tf.one_hot(valid_labelNum.to_numpy(),2).numpy()"
   ]
  },
  {
   "cell_type": "code",
   "execution_count": 15,
   "metadata": {},
   "outputs": [
    {
     "data": {
      "text/plain": [
       "18045"
      ]
     },
     "execution_count": 15,
     "metadata": {},
     "output_type": "execute_result"
    }
   ],
   "source": [
    "# checking the number of popular words so that I can put initiate the tokenizer\n",
    "import collections\n",
    "temp_text = ' '.join(trainSet[\"text\"])\n",
    "words = temp_text.split()\n",
    "counter = collections.Counter(words)\n",
    "\n",
    "word_count = set()\n",
    "for item in set(words):\n",
    "    if counter[item]>35:\n",
    "        word_count.add(item.lower())\n",
    "        \n",
    "len(word_count)"
   ]
  },
  {
   "cell_type": "code",
   "execution_count": 16,
   "metadata": {},
   "outputs": [],
   "source": [
    "tokenizer1 = Tokenizer(num_words = 18000,oov_token='OOV',filters='!\"#$%&()*+,-./:;<=>@[\\]^_`{|}~ ')\n",
    "tokenizer1.fit_on_texts(list(trainSet[\"text\"].values))\n",
    "\n"
   ]
  },
  {
   "cell_type": "code",
   "execution_count": 17,
   "metadata": {},
   "outputs": [
    {
     "data": {
      "text/plain": [
       "(array([[0., 0.],\n",
       "        [1., 0.],\n",
       "        [0., 0.],\n",
       "        ...,\n",
       "        [1., 0.],\n",
       "        [0., 0.],\n",
       "        [0., 0.]], dtype=float32),\n",
       " array([[0., 0.],\n",
       "        [1., 0.],\n",
       "        [0., 0.],\n",
       "        ...,\n",
       "        [1., 0.],\n",
       "        [0., 0.],\n",
       "        [0., 0.]], dtype=float32))"
      ]
     },
     "execution_count": 17,
     "metadata": {},
     "output_type": "execute_result"
    }
   ],
   "source": [
    "trainLabel, validLabel"
   ]
  },
  {
   "cell_type": "code",
   "execution_count": 18,
   "metadata": {},
   "outputs": [],
   "source": [
    "trainSeq1 = tokenizer1.texts_to_sequences(trainSet[\"text\"])\n",
    "trainPad1 = pad_sequences(trainSeq1, maxlen = 100, padding = 'pre', truncating = 'pre')\n",
    "validSeq1 = tokenizer1.texts_to_sequences(validSet[\"text\"])\n",
    "validPad1 = pad_sequences(validSeq1, maxlen = 100, padding = 'pre', truncating = 'pre')\n"
   ]
  },
  {
   "cell_type": "code",
   "execution_count": 19,
   "metadata": {},
   "outputs": [
    {
     "name": "stdout",
     "output_type": "stream",
     "text": [
      "Model: \"sequential\"\n",
      "_________________________________________________________________\n",
      "Layer (type)                 Output Shape              Param #   \n",
      "=================================================================\n",
      "embedding (Embedding)        (None, 100, 16)           288000    \n",
      "_________________________________________________________________\n",
      "bidirectional (Bidirectional (None, 100, 32)           4224      \n",
      "_________________________________________________________________\n",
      "bidirectional_1 (Bidirection (None, 32)                6272      \n",
      "_________________________________________________________________\n",
      "dense (Dense)                (None, 16)                528       \n",
      "_________________________________________________________________\n",
      "dropout (Dropout)            (None, 16)                0         \n",
      "_________________________________________________________________\n",
      "dense_1 (Dense)              (None, 2)                 34        \n",
      "=================================================================\n",
      "Total params: 299,058\n",
      "Trainable params: 299,058\n",
      "Non-trainable params: 0\n",
      "_________________________________________________________________\n"
     ]
    }
   ],
   "source": [
    "model1 = tf.keras.Sequential([\n",
    "    tf.keras.layers.Embedding(18000,output_dim = 16, input_length = 100,name=\"embedding\",mask_zero=False),\n",
    "    tf.keras.layers.Bidirectional(tf.keras.layers.LSTM(16,return_sequences=True)),\n",
    "    tf.keras.layers.Bidirectional(tf.keras.layers.LSTM(16,return_sequences=False)),\n",
    "    tf.keras.layers.Dense(16, activation = 'relu'),\n",
    "    tf.keras.layers.Dropout(0.2),\n",
    "    tf.keras.layers.Dense(2,activation='softmax'),\n",
    "    \n",
    "])\n",
    "\n",
    "model1.compile(optimizer = 'adam',loss = tf.keras.losses.CategoricalCrossentropy(from_logits=False),metrics=['accuracy'])\n",
    "model1.summary()"
   ]
  },
  {
   "cell_type": "code",
   "execution_count": 20,
   "metadata": {},
   "outputs": [
    {
     "name": "stdout",
     "output_type": "stream",
     "text": [
      "Epoch 1/8\n",
      "45000/45000 [==============================] - 861s 19ms/step - loss: 0.6836 - accuracy: 0.8655 - val_loss: 0.0959 - val_accuracy: 1.0000\n",
      "Epoch 2/8\n",
      "21036/45000 [=============>................] - ETA: 7:29 - loss: 0.1489 - accuracy: 0.9195"
     ]
    },
    {
     "ename": "KeyboardInterrupt",
     "evalue": "",
     "output_type": "error",
     "traceback": [
      "\u001b[1;31m---------------------------------------------------------------------------\u001b[0m",
      "\u001b[1;31mKeyboardInterrupt\u001b[0m                         Traceback (most recent call last)",
      "\u001b[1;32m<ipython-input-20-99e230689a20>\u001b[0m in \u001b[0;36m<module>\u001b[1;34m\u001b[0m\n\u001b[0;32m      1\u001b[0m \u001b[0mtsb_callback\u001b[0m \u001b[1;33m=\u001b[0m \u001b[0mtf\u001b[0m\u001b[1;33m.\u001b[0m\u001b[0mkeras\u001b[0m\u001b[1;33m.\u001b[0m\u001b[0mcallbacks\u001b[0m\u001b[1;33m.\u001b[0m\u001b[0mTensorBoard\u001b[0m\u001b[1;33m(\u001b[0m\u001b[0mlog_dir\u001b[0m\u001b[1;33m=\u001b[0m\u001b[1;34m\"logs\"\u001b[0m\u001b[1;33m)\u001b[0m\u001b[1;33m\u001b[0m\u001b[1;33m\u001b[0m\u001b[0m\n\u001b[1;32m----> 2\u001b[1;33m model1.fit(trainPad1,trainLabel,epochs=8,batch_size=32,\n\u001b[0m\u001b[0;32m      3\u001b[0m           \u001b[0mvalidation_data\u001b[0m\u001b[1;33m=\u001b[0m\u001b[1;33m(\u001b[0m\u001b[0mvalidPad1\u001b[0m\u001b[1;33m,\u001b[0m\u001b[0mvalidLabel\u001b[0m\u001b[1;33m)\u001b[0m\u001b[1;33m,\u001b[0m\u001b[1;33m\u001b[0m\u001b[1;33m\u001b[0m\u001b[0m\n\u001b[0;32m      4\u001b[0m            \u001b[0mcallbacks\u001b[0m \u001b[1;33m=\u001b[0m \u001b[1;33m[\u001b[0m\u001b[0mtsb_callback\u001b[0m\u001b[1;33m]\u001b[0m\u001b[1;33m\u001b[0m\u001b[1;33m\u001b[0m\u001b[0m\n\u001b[0;32m      5\u001b[0m           )\n",
      "\u001b[1;32m~\\anaconda3\\lib\\site-packages\\tensorflow\\python\\keras\\engine\\training.py\u001b[0m in \u001b[0;36mfit\u001b[1;34m(self, x, y, batch_size, epochs, verbose, callbacks, validation_split, validation_data, shuffle, class_weight, sample_weight, initial_epoch, steps_per_epoch, validation_steps, validation_batch_size, validation_freq, max_queue_size, workers, use_multiprocessing)\u001b[0m\n\u001b[0;32m   1098\u001b[0m                 _r=1):\n\u001b[0;32m   1099\u001b[0m               \u001b[0mcallbacks\u001b[0m\u001b[1;33m.\u001b[0m\u001b[0mon_train_batch_begin\u001b[0m\u001b[1;33m(\u001b[0m\u001b[0mstep\u001b[0m\u001b[1;33m)\u001b[0m\u001b[1;33m\u001b[0m\u001b[1;33m\u001b[0m\u001b[0m\n\u001b[1;32m-> 1100\u001b[1;33m               \u001b[0mtmp_logs\u001b[0m \u001b[1;33m=\u001b[0m \u001b[0mself\u001b[0m\u001b[1;33m.\u001b[0m\u001b[0mtrain_function\u001b[0m\u001b[1;33m(\u001b[0m\u001b[0miterator\u001b[0m\u001b[1;33m)\u001b[0m\u001b[1;33m\u001b[0m\u001b[1;33m\u001b[0m\u001b[0m\n\u001b[0m\u001b[0;32m   1101\u001b[0m               \u001b[1;32mif\u001b[0m \u001b[0mdata_handler\u001b[0m\u001b[1;33m.\u001b[0m\u001b[0mshould_sync\u001b[0m\u001b[1;33m:\u001b[0m\u001b[1;33m\u001b[0m\u001b[1;33m\u001b[0m\u001b[0m\n\u001b[0;32m   1102\u001b[0m                 \u001b[0mcontext\u001b[0m\u001b[1;33m.\u001b[0m\u001b[0masync_wait\u001b[0m\u001b[1;33m(\u001b[0m\u001b[1;33m)\u001b[0m\u001b[1;33m\u001b[0m\u001b[1;33m\u001b[0m\u001b[0m\n",
      "\u001b[1;32m~\\anaconda3\\lib\\site-packages\\tensorflow\\python\\eager\\def_function.py\u001b[0m in \u001b[0;36m__call__\u001b[1;34m(self, *args, **kwds)\u001b[0m\n\u001b[0;32m    826\u001b[0m     \u001b[0mtracing_count\u001b[0m \u001b[1;33m=\u001b[0m \u001b[0mself\u001b[0m\u001b[1;33m.\u001b[0m\u001b[0mexperimental_get_tracing_count\u001b[0m\u001b[1;33m(\u001b[0m\u001b[1;33m)\u001b[0m\u001b[1;33m\u001b[0m\u001b[1;33m\u001b[0m\u001b[0m\n\u001b[0;32m    827\u001b[0m     \u001b[1;32mwith\u001b[0m \u001b[0mtrace\u001b[0m\u001b[1;33m.\u001b[0m\u001b[0mTrace\u001b[0m\u001b[1;33m(\u001b[0m\u001b[0mself\u001b[0m\u001b[1;33m.\u001b[0m\u001b[0m_name\u001b[0m\u001b[1;33m)\u001b[0m \u001b[1;32mas\u001b[0m \u001b[0mtm\u001b[0m\u001b[1;33m:\u001b[0m\u001b[1;33m\u001b[0m\u001b[1;33m\u001b[0m\u001b[0m\n\u001b[1;32m--> 828\u001b[1;33m       \u001b[0mresult\u001b[0m \u001b[1;33m=\u001b[0m \u001b[0mself\u001b[0m\u001b[1;33m.\u001b[0m\u001b[0m_call\u001b[0m\u001b[1;33m(\u001b[0m\u001b[1;33m*\u001b[0m\u001b[0margs\u001b[0m\u001b[1;33m,\u001b[0m \u001b[1;33m**\u001b[0m\u001b[0mkwds\u001b[0m\u001b[1;33m)\u001b[0m\u001b[1;33m\u001b[0m\u001b[1;33m\u001b[0m\u001b[0m\n\u001b[0m\u001b[0;32m    829\u001b[0m       \u001b[0mcompiler\u001b[0m \u001b[1;33m=\u001b[0m \u001b[1;34m\"xla\"\u001b[0m \u001b[1;32mif\u001b[0m \u001b[0mself\u001b[0m\u001b[1;33m.\u001b[0m\u001b[0m_experimental_compile\u001b[0m \u001b[1;32melse\u001b[0m \u001b[1;34m\"nonXla\"\u001b[0m\u001b[1;33m\u001b[0m\u001b[1;33m\u001b[0m\u001b[0m\n\u001b[0;32m    830\u001b[0m       \u001b[0mnew_tracing_count\u001b[0m \u001b[1;33m=\u001b[0m \u001b[0mself\u001b[0m\u001b[1;33m.\u001b[0m\u001b[0mexperimental_get_tracing_count\u001b[0m\u001b[1;33m(\u001b[0m\u001b[1;33m)\u001b[0m\u001b[1;33m\u001b[0m\u001b[1;33m\u001b[0m\u001b[0m\n",
      "\u001b[1;32m~\\anaconda3\\lib\\site-packages\\tensorflow\\python\\eager\\def_function.py\u001b[0m in \u001b[0;36m_call\u001b[1;34m(self, *args, **kwds)\u001b[0m\n\u001b[0;32m    853\u001b[0m       \u001b[1;31m# In this case we have created variables on the first call, so we run the\u001b[0m\u001b[1;33m\u001b[0m\u001b[1;33m\u001b[0m\u001b[1;33m\u001b[0m\u001b[0m\n\u001b[0;32m    854\u001b[0m       \u001b[1;31m# defunned version which is guaranteed to never create variables.\u001b[0m\u001b[1;33m\u001b[0m\u001b[1;33m\u001b[0m\u001b[1;33m\u001b[0m\u001b[0m\n\u001b[1;32m--> 855\u001b[1;33m       \u001b[1;32mreturn\u001b[0m \u001b[0mself\u001b[0m\u001b[1;33m.\u001b[0m\u001b[0m_stateless_fn\u001b[0m\u001b[1;33m(\u001b[0m\u001b[1;33m*\u001b[0m\u001b[0margs\u001b[0m\u001b[1;33m,\u001b[0m \u001b[1;33m**\u001b[0m\u001b[0mkwds\u001b[0m\u001b[1;33m)\u001b[0m  \u001b[1;31m# pylint: disable=not-callable\u001b[0m\u001b[1;33m\u001b[0m\u001b[1;33m\u001b[0m\u001b[0m\n\u001b[0m\u001b[0;32m    856\u001b[0m     \u001b[1;32melif\u001b[0m \u001b[0mself\u001b[0m\u001b[1;33m.\u001b[0m\u001b[0m_stateful_fn\u001b[0m \u001b[1;32mis\u001b[0m \u001b[1;32mnot\u001b[0m \u001b[1;32mNone\u001b[0m\u001b[1;33m:\u001b[0m\u001b[1;33m\u001b[0m\u001b[1;33m\u001b[0m\u001b[0m\n\u001b[0;32m    857\u001b[0m       \u001b[1;31m# Release the lock early so that multiple threads can perform the call\u001b[0m\u001b[1;33m\u001b[0m\u001b[1;33m\u001b[0m\u001b[1;33m\u001b[0m\u001b[0m\n",
      "\u001b[1;32m~\\anaconda3\\lib\\site-packages\\tensorflow\\python\\eager\\function.py\u001b[0m in \u001b[0;36m__call__\u001b[1;34m(self, *args, **kwargs)\u001b[0m\n\u001b[0;32m   2940\u001b[0m       (graph_function,\n\u001b[0;32m   2941\u001b[0m        filtered_flat_args) = self._maybe_define_function(args, kwargs)\n\u001b[1;32m-> 2942\u001b[1;33m     return graph_function._call_flat(\n\u001b[0m\u001b[0;32m   2943\u001b[0m         filtered_flat_args, captured_inputs=graph_function.captured_inputs)  # pylint: disable=protected-access\n\u001b[0;32m   2944\u001b[0m \u001b[1;33m\u001b[0m\u001b[0m\n",
      "\u001b[1;32m~\\anaconda3\\lib\\site-packages\\tensorflow\\python\\eager\\function.py\u001b[0m in \u001b[0;36m_call_flat\u001b[1;34m(self, args, captured_inputs, cancellation_manager)\u001b[0m\n\u001b[0;32m   1916\u001b[0m         and executing_eagerly):\n\u001b[0;32m   1917\u001b[0m       \u001b[1;31m# No tape is watching; skip to running the function.\u001b[0m\u001b[1;33m\u001b[0m\u001b[1;33m\u001b[0m\u001b[1;33m\u001b[0m\u001b[0m\n\u001b[1;32m-> 1918\u001b[1;33m       return self._build_call_outputs(self._inference_function.call(\n\u001b[0m\u001b[0;32m   1919\u001b[0m           ctx, args, cancellation_manager=cancellation_manager))\n\u001b[0;32m   1920\u001b[0m     forward_backward = self._select_forward_and_backward_functions(\n",
      "\u001b[1;32m~\\anaconda3\\lib\\site-packages\\tensorflow\\python\\eager\\function.py\u001b[0m in \u001b[0;36mcall\u001b[1;34m(self, ctx, args, cancellation_manager)\u001b[0m\n\u001b[0;32m    553\u001b[0m       \u001b[1;32mwith\u001b[0m \u001b[0m_InterpolateFunctionError\u001b[0m\u001b[1;33m(\u001b[0m\u001b[0mself\u001b[0m\u001b[1;33m)\u001b[0m\u001b[1;33m:\u001b[0m\u001b[1;33m\u001b[0m\u001b[1;33m\u001b[0m\u001b[0m\n\u001b[0;32m    554\u001b[0m         \u001b[1;32mif\u001b[0m \u001b[0mcancellation_manager\u001b[0m \u001b[1;32mis\u001b[0m \u001b[1;32mNone\u001b[0m\u001b[1;33m:\u001b[0m\u001b[1;33m\u001b[0m\u001b[1;33m\u001b[0m\u001b[0m\n\u001b[1;32m--> 555\u001b[1;33m           outputs = execute.execute(\n\u001b[0m\u001b[0;32m    556\u001b[0m               \u001b[0mstr\u001b[0m\u001b[1;33m(\u001b[0m\u001b[0mself\u001b[0m\u001b[1;33m.\u001b[0m\u001b[0msignature\u001b[0m\u001b[1;33m.\u001b[0m\u001b[0mname\u001b[0m\u001b[1;33m)\u001b[0m\u001b[1;33m,\u001b[0m\u001b[1;33m\u001b[0m\u001b[1;33m\u001b[0m\u001b[0m\n\u001b[0;32m    557\u001b[0m               \u001b[0mnum_outputs\u001b[0m\u001b[1;33m=\u001b[0m\u001b[0mself\u001b[0m\u001b[1;33m.\u001b[0m\u001b[0m_num_outputs\u001b[0m\u001b[1;33m,\u001b[0m\u001b[1;33m\u001b[0m\u001b[1;33m\u001b[0m\u001b[0m\n",
      "\u001b[1;32m~\\anaconda3\\lib\\site-packages\\tensorflow\\python\\eager\\execute.py\u001b[0m in \u001b[0;36mquick_execute\u001b[1;34m(op_name, num_outputs, inputs, attrs, ctx, name)\u001b[0m\n\u001b[0;32m     57\u001b[0m   \u001b[1;32mtry\u001b[0m\u001b[1;33m:\u001b[0m\u001b[1;33m\u001b[0m\u001b[1;33m\u001b[0m\u001b[0m\n\u001b[0;32m     58\u001b[0m     \u001b[0mctx\u001b[0m\u001b[1;33m.\u001b[0m\u001b[0mensure_initialized\u001b[0m\u001b[1;33m(\u001b[0m\u001b[1;33m)\u001b[0m\u001b[1;33m\u001b[0m\u001b[1;33m\u001b[0m\u001b[0m\n\u001b[1;32m---> 59\u001b[1;33m     tensors = pywrap_tfe.TFE_Py_Execute(ctx._handle, device_name, op_name,\n\u001b[0m\u001b[0;32m     60\u001b[0m                                         inputs, attrs, num_outputs)\n\u001b[0;32m     61\u001b[0m   \u001b[1;32mexcept\u001b[0m \u001b[0mcore\u001b[0m\u001b[1;33m.\u001b[0m\u001b[0m_NotOkStatusException\u001b[0m \u001b[1;32mas\u001b[0m \u001b[0me\u001b[0m\u001b[1;33m:\u001b[0m\u001b[1;33m\u001b[0m\u001b[1;33m\u001b[0m\u001b[0m\n",
      "\u001b[1;31mKeyboardInterrupt\u001b[0m: "
     ]
    }
   ],
   "source": [
    "tsb_callback = tf.keras.callbacks.TensorBoard(log_dir=\"logs\")\n",
    "model1.fit(trainPad1,trainLabel,epochs=8,batch_size=32,\n",
    "          validation_data=(validPad1,validLabel),\n",
    "           callbacks = [tsb_callback]\n",
    "          )"
   ]
  },
  {
   "cell_type": "code",
   "execution_count": null,
   "metadata": {},
   "outputs": [],
   "source": [
    "train_labelNum.value_counts()"
   ]
  },
  {
   "cell_type": "code",
   "execution_count": null,
   "metadata": {},
   "outputs": [],
   "source": [
    "testSet,test_labelNum"
   ]
  },
  {
   "cell_type": "code",
   "execution_count": null,
   "metadata": {},
   "outputs": [],
   "source": [
    "testSeq1 = tokenizer1.texts_to_sequences(testSet)\n",
    "testPad1 = pad_sequences(testSeq1, maxlen = 100, padding = 'pre', truncating = 'pre')"
   ]
  },
  {
   "cell_type": "code",
   "execution_count": null,
   "metadata": {},
   "outputs": [],
   "source": [
    "pred1 = model1.predict(testPad1)\n",
    "pred1"
   ]
  },
  {
   "cell_type": "code",
   "execution_count": null,
   "metadata": {},
   "outputs": [],
   "source": [
    "testLabel = tf.one_hot(test_labelNum.to_numpy(),3).numpy()\n",
    "testLabel"
   ]
  },
  {
   "cell_type": "code",
   "execution_count": null,
   "metadata": {},
   "outputs": [],
   "source": [
    "testLabel,test_labelNum\n",
    "#4: [0,0,0]\n",
    "#2: [0,0,1]\n",
    "#0: [1,0,0]"
   ]
  },
  {
   "cell_type": "code",
   "execution_count": null,
   "metadata": {},
   "outputs": [],
   "source": [
    "trainLabel,train_labelNum"
   ]
  },
  {
   "cell_type": "code",
   "execution_count": 29,
   "metadata": {},
   "outputs": [
    {
     "ename": "IndentationError",
     "evalue": "unindent does not match any outer indentation level (<tokenize>, line 12)",
     "output_type": "error",
     "traceback": [
      "\u001b[1;36m  File \u001b[1;32m\"<tokenize>\"\u001b[1;36m, line \u001b[1;32m12\u001b[0m\n\u001b[1;33m    else:\u001b[0m\n\u001b[1;37m    ^\u001b[0m\n\u001b[1;31mIndentationError\u001b[0m\u001b[1;31m:\u001b[0m unindent does not match any outer indentation level\n"
     ]
    }
   ],
   "source": [
    "def transformPred(nparr):\n",
    "    output = []\n",
    "    for item in nparr:\n",
    "        if np.argmax(item) == 0:\n",
    "            if item[0]>=0.6:\n",
    "                output.append(0)\n",
    "            else:\n",
    "                output.append(2)\n",
    "        else:\n",
    "            if item[1]\n",
    "                output.append(4)\n",
    "            else:\n",
    "                output.append([0,0,1])\n",
    "        \n",
    "    return np.array(output)"
   ]
  },
  {
   "cell_type": "code",
   "execution_count": null,
   "metadata": {},
   "outputs": [],
   "source": [
    "import sklearn\n",
    "import sklearn.metrics\n",
    "pred1_t = transformPred(pred1)\n",
    "\n",
    "#sklearn.metrics.confusion_matrix(testLabel,pred1_t),\\\n",
    "sklearn.metrics.accuracy_score(testLabel,pred1_t)"
   ]
  },
  {
   "cell_type": "code",
   "execution_count": 21,
   "metadata": {},
   "outputs": [],
   "source": [
    "#issue: way too overfit and need clean the input data\n",
    "# replacing 4 into 1 to truly achieve the binary sentiment analysis\n",
    "# will introduce threshold later\n",
    "miniTrain = trainSet[:35000].copy()"
   ]
  },
  {
   "cell_type": "code",
   "execution_count": 22,
   "metadata": {},
   "outputs": [],
   "source": [
    "tminiLabel = train_labelNum[:35000].copy()"
   ]
  },
  {
   "cell_type": "code",
   "execution_count": 23,
   "metadata": {},
   "outputs": [
    {
     "ename": "NameError",
     "evalue": "name 'vminiLabel' is not defined",
     "output_type": "error",
     "traceback": [
      "\u001b[1;31m---------------------------------------------------------------------------\u001b[0m",
      "\u001b[1;31mNameError\u001b[0m                                 Traceback (most recent call last)",
      "\u001b[1;32m<ipython-input-23-1147f74ccc3d>\u001b[0m in \u001b[0;36m<module>\u001b[1;34m\u001b[0m\n\u001b[1;32m----> 1\u001b[1;33m \u001b[0mtminiLabel\u001b[0m\u001b[1;33m.\u001b[0m\u001b[0mvalue_counts\u001b[0m\u001b[1;33m(\u001b[0m\u001b[1;33m)\u001b[0m\u001b[1;33m,\u001b[0m\u001b[0mvminiLabel\u001b[0m\u001b[1;33m.\u001b[0m\u001b[0mvalue_counts\u001b[0m\u001b[1;33m(\u001b[0m\u001b[1;33m)\u001b[0m\u001b[1;33m\u001b[0m\u001b[1;33m\u001b[0m\u001b[0m\n\u001b[0m",
      "\u001b[1;31mNameError\u001b[0m: name 'vminiLabel' is not defined"
     ]
    }
   ],
   "source": [
    "tminiLabel.value_counts(),vminiLabel.value_counts()"
   ]
  },
  {
   "cell_type": "code",
   "execution_count": 25,
   "metadata": {},
   "outputs": [],
   "source": [
    "minivalid = validSet[:17500].copy()\n",
    "vminiLabel = valid_labelNum[:17500].copy()\n"
   ]
  },
  {
   "cell_type": "code",
   "execution_count": 26,
   "metadata": {},
   "outputs": [
    {
     "data": {
      "text/plain": [
       "(1545897    4\n",
       " 141842     0\n",
       " 1245796    4\n",
       " 785684     0\n",
       " 784358     0\n",
       "           ..\n",
       " 173424     0\n",
       " 473979     0\n",
       " 489592     0\n",
       " 1480534    4\n",
       " 649833     0\n",
       " Name: label, Length: 35000, dtype: int64,\n",
       " 1578239    4\n",
       " 285524     0\n",
       " 1129823    4\n",
       " 1594219    4\n",
       " 1292100    4\n",
       "           ..\n",
       " 1195316    4\n",
       " 426888     0\n",
       " 10102      0\n",
       " 211778     0\n",
       " 597913     0\n",
       " Name: label, Length: 17500, dtype: int64)"
      ]
     },
     "execution_count": 26,
     "metadata": {},
     "output_type": "execute_result"
    }
   ],
   "source": [
    "tminiLabel,vminiLabel"
   ]
  },
  {
   "cell_type": "code",
   "execution_count": 27,
   "metadata": {},
   "outputs": [
    {
     "data": {
      "text/plain": [
       "(1545897    1\n",
       " 141842     0\n",
       " 1245796    1\n",
       " 785684     0\n",
       " 784358     0\n",
       "           ..\n",
       " 173424     0\n",
       " 473979     0\n",
       " 489592     0\n",
       " 1480534    1\n",
       " 649833     0\n",
       " Name: label, Length: 35000, dtype: int64,\n",
       " 1578239    1\n",
       " 285524     0\n",
       " 1129823    1\n",
       " 1594219    1\n",
       " 1292100    1\n",
       "           ..\n",
       " 1195316    1\n",
       " 426888     0\n",
       " 10102      0\n",
       " 211778     0\n",
       " 597913     0\n",
       " Name: label, Length: 17500, dtype: int64)"
      ]
     },
     "execution_count": 27,
     "metadata": {},
     "output_type": "execute_result"
    }
   ],
   "source": [
    "vminiLabel.replace({4:1},inplace=True)\n",
    "tminiLabel.replace({4:1},inplace=True)\n",
    "tminiLabel,vminiLabel"
   ]
  },
  {
   "cell_type": "code",
   "execution_count": 28,
   "metadata": {},
   "outputs": [
    {
     "name": "stderr",
     "output_type": "stream",
     "text": [
      "[nltk_data] Downloading package stopwords to\n",
      "[nltk_data]     C:\\Users\\JimmyGan\\AppData\\Roaming\\nltk_data...\n",
      "[nltk_data]   Package stopwords is already up-to-date!\n"
     ]
    }
   ],
   "source": [
    "# data cleaning then redo the tokenizer baseline\n",
    "import re,nltk,string\n",
    "nltk.download('stopwords')\n",
    "from nltk.corpus import stopwords\n",
    "stop_words = stopwords.words(\"english\")\n",
    "def text_clean(x):\n",
    "    x = x.lower()\n",
    "    x = ' '.join([m for m in x.split(' ') if m not in stop_words])\n",
    "    x = x.encode('ascii','ignore').decode()## characters that ascii not recognized like emoji\n",
    "    x = re.sub(r'@\\S+', ' ', x)## @ handler\n",
    "    x = re.sub(r'#\\S+', ' ', x)## hashtag\n",
    "    x = re.sub(r'\\'\\w+', '', x)## ticks\n",
    "    x = re.sub(\"https*\\S+\", \" \", x)## http link\n",
    "    x = re.sub('[%s]' % re.escape(string.punctuation), ' ', x)\n",
    "    x = re.sub(r'\\w*\\d+\\w*', '', x)## numbers\n",
    "    x = re.sub(r'\\s{2,}', ' ', x)## double space\n",
    "    return x\n",
    "\n",
    "trainClean = miniTrain.text.apply(text_clean)\n",
    "validClean = minivalid.text.apply(text_clean)"
   ]
  },
  {
   "cell_type": "code",
   "execution_count": 29,
   "metadata": {},
   "outputs": [],
   "source": [
    "token2 = Tokenizer(num_words = 2500,lower=True, split=\" \", char_level=False,oov_token = 'OOV')\n",
    "token2.fit_on_texts(trainClean)\n",
    "\n",
    "trainSeq2 = token2.texts_to_sequences(trainClean)\n",
    "trainPad2 = pad_sequences(trainSeq2,maxlen = 100,padding = 'pre',truncating = 'pre')\n",
    "\n",
    "validSeq2 = token2.texts_to_sequences(validClean)\n",
    "validPad2 = pad_sequences(validSeq2,maxlen = 100,padding = 'pre',truncating = 'pre')"
   ]
  },
  {
   "cell_type": "code",
   "execution_count": 30,
   "metadata": {},
   "outputs": [
    {
     "name": "stdout",
     "output_type": "stream",
     "text": [
      "Model: \"sequential_1\"\n",
      "_________________________________________________________________\n",
      "Layer (type)                 Output Shape              Param #   \n",
      "=================================================================\n",
      "embedding (Embedding)        (None, 100, 32)           80000     \n",
      "_________________________________________________________________\n",
      "bidirectional_2 (Bidirection (None, 64)                16640     \n",
      "_________________________________________________________________\n",
      "dense_2 (Dense)              (None, 32)                2080      \n",
      "_________________________________________________________________\n",
      "dropout_1 (Dropout)          (None, 32)                0         \n",
      "_________________________________________________________________\n",
      "dense_3 (Dense)              (None, 2)                 66        \n",
      "=================================================================\n",
      "Total params: 98,786\n",
      "Trainable params: 98,786\n",
      "Non-trainable params: 0\n",
      "_________________________________________________________________\n"
     ]
    }
   ],
   "source": [
    "model2 = tf.keras.Sequential([\n",
    "    tf.keras.layers.Embedding(2500,output_dim = 32, input_length = 100,name=\"embedding\",mask_zero=False),\n",
    "   # tf.keras.layers.Bidirectional(tf.keras.layers.LSTM(32,return_sequences=True)),\n",
    "    tf.keras.layers.Bidirectional(tf.keras.layers.LSTM(32,return_sequences=False)),\n",
    "    tf.keras.layers.Dense(32, activation = 'relu'),\n",
    "    tf.keras.layers.Dropout(0.1),\n",
    "    tf.keras.layers.Dense(2,activation='softmax'),\n",
    "    \n",
    "])\n",
    "\n",
    "model2.compile(optimizer = 'adam',loss = tf.keras.losses.CategoricalCrossentropy(from_logits=False),metrics=['accuracy'])\n",
    "model2.summary()"
   ]
  },
  {
   "cell_type": "code",
   "execution_count": 31,
   "metadata": {},
   "outputs": [
    {
     "data": {
      "text/plain": [
       "35000"
      ]
     },
     "execution_count": 31,
     "metadata": {},
     "output_type": "execute_result"
    }
   ],
   "source": [
    "\n",
    "train_lab2 = tf.one_hot(tminiLabel.to_numpy() , 2).numpy()\n",
    "valid_lab2 =  tf.one_hot(vminiLabel.to_numpy(),2).numpy()\n",
    "len(trainPad2)"
   ]
  },
  {
   "cell_type": "code",
   "execution_count": 32,
   "metadata": {},
   "outputs": [
    {
     "name": "stdout",
     "output_type": "stream",
     "text": [
      "Epoch 1/16\n",
      "547/547 [==============================] - 16s 25ms/step - loss: 0.6063 - accuracy: 0.6540 - val_loss: 0.5136 - val_accuracy: 0.7488\n",
      "Epoch 2/16\n",
      "547/547 [==============================] - 10s 19ms/step - loss: 0.4786 - accuracy: 0.7742 - val_loss: 0.5054 - val_accuracy: 0.7506\n",
      "Epoch 3/16\n",
      "547/547 [==============================] - 10s 19ms/step - loss: 0.4525 - accuracy: 0.7882 - val_loss: 0.5109 - val_accuracy: 0.7479\n",
      "Epoch 4/16\n",
      "547/547 [==============================] - 10s 19ms/step - loss: 0.4282 - accuracy: 0.7990 - val_loss: 0.5277 - val_accuracy: 0.7445\n",
      "Epoch 5/16\n",
      "547/547 [==============================] - 10s 19ms/step - loss: 0.4100 - accuracy: 0.8078 - val_loss: 0.5403 - val_accuracy: 0.7363\n",
      "Epoch 6/16\n",
      "547/547 [==============================] - 10s 19ms/step - loss: 0.3893 - accuracy: 0.8195 - val_loss: 0.5646 - val_accuracy: 0.7333\n",
      "Epoch 7/16\n",
      "547/547 [==============================] - 10s 19ms/step - loss: 0.3807 - accuracy: 0.8228 - val_loss: 0.5759 - val_accuracy: 0.7267\n",
      "Epoch 8/16\n",
      "547/547 [==============================] - 10s 18ms/step - loss: 0.3633 - accuracy: 0.8315 - val_loss: 0.6353 - val_accuracy: 0.7297\n",
      "Epoch 9/16\n",
      "547/547 [==============================] - 10s 19ms/step - loss: 0.3474 - accuracy: 0.8375 - val_loss: 0.6470 - val_accuracy: 0.7244\n",
      "Epoch 10/16\n",
      "547/547 [==============================] - 10s 19ms/step - loss: 0.3260 - accuracy: 0.8490 - val_loss: 0.7266 - val_accuracy: 0.7232\n",
      "Epoch 11/16\n",
      "547/547 [==============================] - 10s 19ms/step - loss: 0.3039 - accuracy: 0.8579 - val_loss: 0.7556 - val_accuracy: 0.7159\n",
      "Epoch 12/16\n",
      "547/547 [==============================] - 10s 18ms/step - loss: 0.2919 - accuracy: 0.8630 - val_loss: 0.8635 - val_accuracy: 0.7135\n",
      "Epoch 13/16\n",
      "547/547 [==============================] - 10s 19ms/step - loss: 0.2747 - accuracy: 0.8712 - val_loss: 0.9247 - val_accuracy: 0.7113\n",
      "Epoch 14/16\n",
      "547/547 [==============================] - 10s 19ms/step - loss: 0.2576 - accuracy: 0.8799 - val_loss: 0.9269 - val_accuracy: 0.7078\n",
      "Epoch 15/16\n",
      "547/547 [==============================] - 10s 19ms/step - loss: 0.2463 - accuracy: 0.8842 - val_loss: 1.0483 - val_accuracy: 0.7041\n",
      "Epoch 16/16\n",
      "547/547 [==============================] - 10s 19ms/step - loss: 0.2324 - accuracy: 0.8923 - val_loss: 1.1367 - val_accuracy: 0.7022\n"
     ]
    }
   ],
   "source": [
    "tsb_callback = tf.keras.callbacks.TensorBoard(log_dir=\"logs\")\n",
    "hist2 = model2.fit(trainPad2,train_lab2,epochs=16,batch_size=64,\n",
    "          validation_data=(validPad2,valid_lab2),\n",
    "           callbacks = [tsb_callback]\n",
    "          )"
   ]
  },
  {
   "cell_type": "code",
   "execution_count": 33,
   "metadata": {},
   "outputs": [
    {
     "data": {
      "image/png": "[encoded data removed]",
      "text/plain": [
       "<Figure size 432x288 with 1 Axes>"
      ]
     },
     "metadata": {
      "needs_background": "light"
     },
     "output_type": "display_data"
    },
    {
     "data": {
      "image/png": "[encoded data removed]",
      "text/plain": [
       "<Figure size 432x288 with 1 Axes>"
      ]
     },
     "metadata": {
      "needs_background": "light"
     },
     "output_type": "display_data"
    }
   ],
   "source": [
    "plt.plot(hist2.history['accuracy'])\n",
    "plt.plot(hist2.history['val_accuracy'])\n",
    "plt.title('model accuracy')\n",
    "plt.ylabel('accuracy')\n",
    "plt.xlabel('epoch')\n",
    "plt.legend(['train', 'test'], loc='upper left')\n",
    "plt.show()\n",
    "\n",
    "plt.plot(hist2.history['loss'])\n",
    "plt.plot(hist2.history['val_loss'])\n",
    "plt.title('model loss')\n",
    "plt.ylabel('loss')\n",
    "plt.xlabel('epoch')\n",
    "plt.legend(['train', 'test'], loc='upper left')\n",
    "plt.show()"
   ]
  },
  {
   "cell_type": "markdown",
   "metadata": {},
   "source": [
    "it still has the problem of overfitting the training data"
   ]
  },
  {
   "cell_type": "code",
   "execution_count": 34,
   "metadata": {},
   "outputs": [],
   "source": [
    "testClean = testSet.apply(text_clean)\n",
    "testSeq2 = token2.texts_to_sequences(testClean)\n",
    "testPad2 = pad_sequences(testSeq2,maxlen = 100,padding = 'pre',truncating = 'pre')\n",
    "pred2=model2.predict(testPad2)"
   ]
  },
  {
   "cell_type": "code",
   "execution_count": 35,
   "metadata": {},
   "outputs": [],
   "source": [
    "def translate(resarr, cutoff):\n",
    "    output = []\n",
    "    for item in resarr:\n",
    "        if item[0] == item[1]:\n",
    "            output.append(2)\n",
    "            continue\n",
    "        if item[0]<=cutoff and item[1]<=cutoff:\n",
    "            output.append(2)\n",
    "        else:\n",
    "            if np.argmax(item) == 0:\n",
    "                output.append(0)\n",
    "            else:\n",
    "                output.append(4)\n",
    "    return np.array(output)\n"
   ]
  },
  {
   "cell_type": "code",
   "execution_count": 36,
   "metadata": {},
   "outputs": [],
   "source": [
    "test2 = test_labelNum.copy()\n",
    "test2 = test2.to_numpy()"
   ]
  },
  {
   "cell_type": "code",
   "execution_count": 38,
   "metadata": {},
   "outputs": [],
   "source": [
    "import sklearn\n",
    "import sklearn.metrics"
   ]
  },
  {
   "cell_type": "code",
   "execution_count": 39,
   "metadata": {},
   "outputs": [
    {
     "data": {
      "text/plain": [
       "(array([[115,   0,  62],\n",
       "        [ 39,   0, 100],\n",
       "        [ 38,   0, 144]], dtype=int64),\n",
       " 0.5200803212851406)"
      ]
     },
     "execution_count": 39,
     "metadata": {},
     "output_type": "execute_result"
    }
   ],
   "source": [
    "sklearn.metrics.confusion_matrix(test2,translate(pred2,0.5)),\\\n",
    "sklearn.metrics.accuracy_score(test2,translate(pred2,0.5))"
   ]
  },
  {
   "cell_type": "code",
   "execution_count": 40,
   "metadata": {},
   "outputs": [
    {
     "data": {
      "text/plain": [
       "2"
      ]
     },
     "execution_count": 40,
     "metadata": {},
     "output_type": "execute_result"
    }
   ],
   "source": [
    "test_labelNum[493]\n"
   ]
  },
  {
   "cell_type": "code",
   "execution_count": 41,
   "metadata": {},
   "outputs": [
    {
     "data": {
      "text/plain": [
       "'Ask Programming: LaTeX or InDesign?: submitted by calcio1 [link] [1 comment] http://tinyurl.com/myfmf7'"
      ]
     },
     "execution_count": 41,
     "metadata": {},
     "output_type": "execute_result"
    }
   ],
   "source": [
    "testSet[493]"
   ]
  },
  {
   "cell_type": "code",
   "execution_count": 42,
   "metadata": {},
   "outputs": [
    {
     "data": {
      "text/plain": [
       "0.5200803212851406"
      ]
     },
     "execution_count": 42,
     "metadata": {},
     "output_type": "execute_result"
    }
   ],
   "source": [
    "sklearn.metrics.f1_score(test2,translate(pred2,0.5),average='micro')"
   ]
  },
  {
   "cell_type": "code",
   "execution_count": 43,
   "metadata": {},
   "outputs": [
    {
     "name": "stdout",
     "output_type": "stream",
     "text": [
      "Model: \"sequential_2\"\n",
      "_________________________________________________________________\n",
      "Layer (type)                 Output Shape              Param #   \n",
      "=================================================================\n",
      "embedding (Embedding)        (None, 80, 32)            80000     \n",
      "_________________________________________________________________\n",
      "bidirectional_3 (Bidirection (None, 80, 64)            16640     \n",
      "_________________________________________________________________\n",
      "bidirectional_4 (Bidirection (None, 64)                24832     \n",
      "_________________________________________________________________\n",
      "dense_4 (Dense)              (None, 32)                2080      \n",
      "_________________________________________________________________\n",
      "dropout_2 (Dropout)          (None, 32)                0         \n",
      "_________________________________________________________________\n",
      "dense_5 (Dense)              (None, 2)                 66        \n",
      "=================================================================\n",
      "Total params: 123,618\n",
      "Trainable params: 123,618\n",
      "Non-trainable params: 0\n",
      "_________________________________________________________________\n"
     ]
    }
   ],
   "source": [
    "model3 = tf.keras.Sequential([\n",
    "    tf.keras.layers.Embedding(2500,output_dim = 32, input_length = 80,name=\"embedding\",mask_zero=False),\n",
    "    tf.keras.layers.Bidirectional(tf.keras.layers.LSTM(32,return_sequences=True)),\n",
    "    tf.keras.layers.Bidirectional(tf.keras.layers.LSTM(32,return_sequences=False)),\n",
    "    tf.keras.layers.Dense(32, activation = 'relu'),\n",
    "    tf.keras.layers.Dropout(0.1),\n",
    "    tf.keras.layers.Dense(2,activation='softmax'),\n",
    "    \n",
    "])\n",
    "opt = tf.keras.optimizers.Adam(learning_rate = 0.0005,name ='Adam')\n",
    "model3.compile(optimizer = 'adam',loss = tf.keras.losses.CategoricalCrossentropy(from_logits=False),metrics=['accuracy'])\n",
    "model3.summary()"
   ]
  },
  {
   "cell_type": "code",
   "execution_count": 44,
   "metadata": {},
   "outputs": [],
   "source": [
    "trainClean = trainSet.text.apply(text_clean)\n",
    "\n",
    "validClean = validSet.text.apply(text_clean)\n",
    "token3 = Tokenizer(num_words = 2500,oov_token = 'OOV')\n",
    "token3.fit_on_texts(trainClean)\n",
    "trainSeqfull = token3.texts_to_sequences(trainClean)\n",
    "trainPadfull = pad_sequences(trainSeqfull,maxlen = 80,padding = 'pre',truncating = 'pre')\n",
    "\n",
    "validSeqfull = token3.texts_to_sequences(validClean)\n",
    "validPadfull = pad_sequences(validSeqfull,maxlen = 80,padding = 'pre',truncating = 'pre')\n",
    "\n",
    "tlbfull = train_labelNum.copy()\n",
    "vlbfull = valid_labelNum.copy()\n",
    "tlbfull.replace({4:1},inplace=True)\n",
    "vlbfull.replace({4:1},inplace=True)\n",
    "\n",
    "train_lab3 = tf.one_hot(tlbfull.to_numpy() , 2).numpy()\n",
    "valid_lab3 =  tf.one_hot(vlbfull.to_numpy(),2).numpy()"
   ]
  },
  {
   "cell_type": "code",
   "execution_count": 45,
   "metadata": {},
   "outputs": [
    {
     "name": "stdout",
     "output_type": "stream",
     "text": [
      "Epoch 1/8\n",
      "45000/45000 [==============================] - 841s 19ms/step - loss: 0.4933 - accuracy: 0.7565 - val_loss: 0.4633 - val_accuracy: 0.7766\n",
      "Epoch 2/8\n",
      "45000/45000 [==============================] - 805s 18ms/step - loss: 0.4584 - accuracy: 0.7795 - val_loss: 0.4559 - val_accuracy: 0.7791\n",
      "Epoch 3/8\n",
      "45000/45000 [==============================] - 804s 18ms/step - loss: 0.4492 - accuracy: 0.7855 - val_loss: 0.4514 - val_accuracy: 0.7837\n",
      "Epoch 4/8\n",
      "45000/45000 [==============================] - 807s 18ms/step - loss: 0.4407 - accuracy: 0.7903 - val_loss: 0.4502 - val_accuracy: 0.7838\n",
      "Epoch 5/8\n",
      "45000/45000 [==============================] - 809s 18ms/step - loss: 0.4352 - accuracy: 0.7935 - val_loss: 0.4500 - val_accuracy: 0.7847\n",
      "Epoch 6/8\n",
      "45000/45000 [==============================] - 808s 18ms/step - loss: 0.4313 - accuracy: 0.7952 - val_loss: 0.4515 - val_accuracy: 0.7836\n",
      "Epoch 7/8\n",
      "45000/45000 [==============================] - 811s 18ms/step - loss: 0.4265 - accuracy: 0.7985 - val_loss: 0.4517 - val_accuracy: 0.7837\n",
      "Epoch 8/8\n",
      "45000/45000 [==============================] - 809s 18ms/step - loss: 0.4224 - accuracy: 0.8009 - val_loss: 0.4531 - val_accuracy: 0.7830\n"
     ]
    }
   ],
   "source": [
    "\n",
    "\n",
    "tsb_callback = tf.keras.callbacks.TensorBoard(log_dir=\"logs\")\n",
    "hist3 = model3.fit(trainPadfull,train_lab3,epochs=8,batch_size=32,\n",
    "          validation_data=(validPadfull,valid_lab3),\n",
    "           callbacks = [tsb_callback]\n",
    "          )"
   ]
  },
  {
   "cell_type": "code",
   "execution_count": 46,
   "metadata": {},
   "outputs": [],
   "source": [
    "testClean = testSet.apply(text_clean)\n",
    "testSeq3 = token3.texts_to_sequences(testClean)\n",
    "testPad3 = pad_sequences(testSeq3,maxlen = 80,padding = 'pre',truncating = 'pre')\n",
    "pred3=model3.predict(testPad3)\n"
   ]
  },
  {
   "cell_type": "code",
   "execution_count": 47,
   "metadata": {},
   "outputs": [
    {
     "data": {
      "text/plain": [
       "(array([[120,  30,  27],\n",
       "        [ 22,  33,  84],\n",
       "        [ 15,  29, 138]], dtype=int64),\n",
       " 0.5843373493975904)"
      ]
     },
     "execution_count": 47,
     "metadata": {},
     "output_type": "execute_result"
    }
   ],
   "source": [
    "sklearn.metrics.confusion_matrix(test2,translate(pred3,0.6)),\\\n",
    "sklearn.metrics.accuracy_score(test2,translate(pred3,0.6))"
   ]
  },
  {
   "cell_type": "code",
   "execution_count": 48,
   "metadata": {},
   "outputs": [
    {
     "data": {
      "text/plain": [
       "(array([[137,   0,  40],\n",
       "        [ 33,   0, 106],\n",
       "        [ 27,   0, 155]], dtype=int64),\n",
       " 0.5863453815261044)"
      ]
     },
     "execution_count": 48,
     "metadata": {},
     "output_type": "execute_result"
    }
   ],
   "source": [
    "sklearn.metrics.confusion_matrix(test2,translate(pred3,0)),\\\n",
    "sklearn.metrics.accuracy_score(test2,translate(pred3,0))"
   ]
  },
  {
   "cell_type": "code",
   "execution_count": 49,
   "metadata": {},
   "outputs": [],
   "source": [
    "def plothist(history):\n",
    "    plt.plot(history.history['accuracy'])\n",
    "    plt.plot(history.history['val_accuracy'])\n",
    "    plt.title('model accuracy')\n",
    "    plt.ylabel('accuracy')\n",
    "    plt.xlabel('epoch')\n",
    "    plt.legend(['train', 'test'], loc='upper left')\n",
    "    plt.show()\n",
    "    plt.plot(history.history['loss'])\n",
    "    plt.plot(history.history['val_loss'])\n",
    "    plt.title('model loss')\n",
    "    plt.ylabel('loss')\n",
    "    plt.xlabel('epoch')\n",
    "    plt.legend(['train', 'test'], loc='upper left')\n",
    "    plt.show()"
   ]
  },
  {
   "cell_type": "code",
   "execution_count": 50,
   "metadata": {
    "scrolled": true
   },
   "outputs": [
    {
     "data": {
      "image/png": "[encoded data removed]",
      "text/plain": [
       "<Figure size 432x288 with 1 Axes>"
      ]
     },
     "metadata": {
      "needs_background": "light"
     },
     "output_type": "display_data"
    },
    {
     "data": {
      "image/png": "[encoded data removed]",
      "text/plain": [
       "<Figure size 432x288 with 1 Axes>"
      ]
     },
     "metadata": {
      "needs_background": "light"
     },
     "output_type": "display_data"
    }
   ],
   "source": [
    "plothist(hist3)"
   ]
  },
  {
   "cell_type": "code",
   "execution_count": 51,
   "metadata": {},
   "outputs": [
    {
     "name": "stdout",
     "output_type": "stream",
     "text": [
      "[0.08777146 0.9122285 ]\n",
      "[0.13576607 0.8642339 ]\n",
      "[0.14246894 0.8575311 ]\n",
      "[0.15506639 0.84493357]\n",
      "[0.4255713 0.5744287]\n",
      "[0.24032532 0.75967467]\n",
      "[0.0613117  0.93868834]\n",
      "[0.03416272 0.9658373 ]\n",
      "[0.17409116 0.82590884]\n",
      "[0.11548901 0.88451093]\n",
      "[0.11548901 0.88451093]\n",
      "[0.31791568 0.6820843 ]\n",
      "[0.17260231 0.8273977 ]\n",
      "[0.3309154 0.6690846]\n",
      "[0.8703364  0.12966357]\n",
      "[0.21041925 0.7895807 ]\n",
      "[0.35196862 0.64803135]\n",
      "[0.12617461 0.8738254 ]\n",
      "[0.1405672  0.85943276]\n",
      "[0.30499905 0.6950009 ]\n",
      "[0.00845002 0.99154997]\n",
      "[0.14941485 0.85058516]\n",
      "[0.14821173 0.8517882 ]\n",
      "[0.06639862 0.9336014 ]\n",
      "[0.01080155 0.9891985 ]\n",
      "[0.14099203 0.85900795]\n",
      "[0.05831392 0.94168603]\n",
      "[0.59711355 0.4028865 ]\n",
      "[0.22177069 0.77822936]\n",
      "[0.6219894  0.37801054]\n",
      "[0.48062152 0.5193785 ]\n",
      "[0.2970097  0.70299035]\n",
      "[0.41260105 0.58739895]\n",
      "[0.40360898 0.596391  ]\n",
      "[0.31912482 0.6808752 ]\n",
      "[0.7778884 0.2221116]\n",
      "[0.95218015 0.04781988]\n",
      "[0.26694438 0.7330556 ]\n",
      "[0.36312607 0.63687396]\n",
      "[0.40645626 0.5935437 ]\n",
      "[0.26498497 0.7350151 ]\n",
      "[0.5722925 0.4277075]\n",
      "[0.6322889  0.36771113]\n",
      "[0.17854652 0.82145345]\n",
      "[0.33294922 0.6670507 ]\n",
      "[0.44338202 0.556618  ]\n",
      "[0.4164098 0.5835902]\n",
      "[0.16306679 0.8369332 ]\n",
      "[0.55122185 0.44877815]\n",
      "[0.01169664 0.9883033 ]\n",
      "[0.09165455 0.9083454 ]\n",
      "[0.1992244 0.8007756]\n",
      "[0.04392891 0.9560711 ]\n",
      "[0.6880835 0.3119165]\n",
      "[0.4541751 0.5458249]\n",
      "[0.39432818 0.6056718 ]\n",
      "[0.43719316 0.56280684]\n",
      "[0.39320523 0.6067948 ]\n",
      "[0.39320523 0.6067948 ]\n",
      "[0.6072629  0.39273718]\n",
      "[0.39320523 0.6067948 ]\n",
      "[0.13782248 0.86217755]\n",
      "[0.24542367 0.7545764 ]\n",
      "[0.6460297  0.35397023]\n",
      "[0.33424217 0.66575783]\n",
      "[0.19397126 0.8060287 ]\n",
      "[0.25726882 0.74273115]\n",
      "[0.98330414 0.0166959 ]\n",
      "[0.72776055 0.27223945]\n",
      "[0.30553234 0.69446766]\n",
      "[0.2054292 0.7945708]\n",
      "[0.28357592 0.71642405]\n",
      "[0.6103072  0.38969278]\n",
      "[0.49252862 0.5074714 ]\n",
      "[0.45932022 0.5406798 ]\n",
      "[0.22242573 0.77757424]\n",
      "[0.03889602 0.961104  ]\n",
      "[0.14491521 0.85508484]\n",
      "[0.16933249 0.8306675 ]\n",
      "[0.16213956 0.8378604 ]\n",
      "[0.86733276 0.13266732]\n",
      "[0.6213983 0.3786016]\n",
      "[0.41521293 0.5847871 ]\n",
      "[0.06603621 0.93396384]\n",
      "[0.38518545 0.6148146 ]\n",
      "[0.45743266 0.5425673 ]\n",
      "[0.2589072 0.7410928]\n",
      "[0.04660749 0.9533925 ]\n",
      "[0.10367918 0.89632076]\n",
      "[0.03243953 0.96756047]\n",
      "[0.26740292 0.7325972 ]\n",
      "[0.40389496 0.59610504]\n",
      "[0.43090528 0.5690947 ]\n",
      "[0.5759434  0.42405662]\n",
      "[0.4312126 0.5687874]\n",
      "[0.11559817 0.88440186]\n",
      "[0.5690104  0.43098965]\n",
      "[0.8756088  0.12439121]\n",
      "[0.6438356  0.35616443]\n",
      "[0.11243515 0.88756484]\n",
      "[0.0452844 0.9547156]\n",
      "[0.25573617 0.7442638 ]\n",
      "[0.45956984 0.5404302 ]\n",
      "[0.99368346 0.00631651]\n",
      "[0.4541751 0.5458249]\n",
      "[0.3858852 0.6141148]\n",
      "[0.3867961  0.61320394]\n",
      "[0.39378205 0.6062179 ]\n",
      "[0.37291524 0.62708473]\n",
      "[0.13334437 0.86665565]\n",
      "[0.6715454  0.32845458]\n",
      "[0.45496407 0.54503596]\n",
      "[0.8884691  0.11153088]\n",
      "[0.14061567 0.85938436]\n",
      "[0.3058744 0.6941256]\n",
      "[0.02929933 0.9707007 ]\n",
      "[0.03032535 0.96967465]\n",
      "[0.3089327  0.69106734]\n",
      "[0.3056568 0.6943432]\n",
      "[0.61688954 0.38311046]\n",
      "[0.33599985 0.66400015]\n",
      "[0.56933445 0.43066558]\n",
      "[0.53532135 0.46467865]\n",
      "[0.17805752 0.8219425 ]\n",
      "[0.41521296 0.584787  ]\n",
      "[0.64592737 0.35407266]\n",
      "[0.2955128 0.7044872]\n",
      "[0.16681957 0.8331804 ]\n",
      "[0.5803252 0.4196748]\n",
      "[0.5705813  0.42941868]\n",
      "[0.47760984 0.52239007]\n",
      "[0.7236174  0.27638263]\n",
      "[0.49554712 0.5044528 ]\n",
      "[0.59773976 0.4022602 ]\n",
      "[0.24413212 0.75586784]\n",
      "[0.8317914 0.1682086]\n",
      "[0.505634   0.49436596]\n",
      "[0.30501425 0.6949857 ]\n",
      "[0.21196918 0.78803086]\n"
     ]
    }
   ],
   "source": [
    "idx_list = []\n",
    "for idx,item in enumerate(test2):\n",
    "    if item == 2:\n",
    "        idx_list.append(idx)\n",
    "for item in idx_list:\n",
    "    print(pred3[item])\n",
    "    "
   ]
  },
  {
   "cell_type": "code",
   "execution_count": 52,
   "metadata": {},
   "outputs": [
    {
     "data": {
      "text/plain": [
       "array([[120,  30,  27],\n",
       "       [ 22,  33,  84],\n",
       "       [ 15,  29, 138]], dtype=int64)"
      ]
     },
     "execution_count": 52,
     "metadata": {},
     "output_type": "execute_result"
    }
   ],
   "source": [
    "sklearn.metrics.confusion_matrix(test2,translate(pred3,0.6))"
   ]
  },
  {
   "cell_type": "markdown",
   "metadata": {},
   "source": [
    "baseline is not that bad on unseen neutral considering the fact that it has never been tested before but the positve/negative sentiment still have around 75% accuracy ignoring the neutral cases."
   ]
  },
  {
   "cell_type": "code",
   "execution_count": 53,
   "metadata": {},
   "outputs": [],
   "source": [
    "text = [\"why you acting you famous\"]\n",
    "\n",
    "txtseq = token3.texts_to_sequences(text)\n",
    "txtpad = pad_sequences(txtseq,maxlen = 80,padding = 'pre',truncating = 'pre')\n",
    "txtpred = model3.predict(txtpad)"
   ]
  },
  {
   "cell_type": "code",
   "execution_count": 54,
   "metadata": {},
   "outputs": [
    {
     "data": {
      "text/plain": [
       "array([[0.48895475, 0.5110452 ]], dtype=float32)"
      ]
     },
     "execution_count": 54,
     "metadata": {},
     "output_type": "execute_result"
    }
   ],
   "source": [
    "txtpred"
   ]
  },
  {
   "cell_type": "code",
   "execution_count": null,
   "metadata": {},
   "outputs": [],
   "source": []
  },
  {
   "cell_type": "code",
   "execution_count": null,
   "metadata": {},
   "outputs": [],
   "source": []
  }
 ],
 "metadata": {
  "kernelspec": {
   "display_name": "Python 3",
   "language": "python",
   "name": "python3"
  },
  "language_info": {
   "codemirror_mode": {
    "name": "ipython",
    "version": 3
   },
   "file_extension": ".py",
   "mimetype": "text/x-python",
   "name": "python",
   "nbconvert_exporter": "python",
   "pygments_lexer": "ipython3",
   "version": "3.8.5"
  }
 },
 "nbformat": 4,
 "nbformat_minor": 4
}
