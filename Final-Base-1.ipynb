{
 "cells": [
  {
   "cell_type": "code",
   "execution_count": 1,
   "metadata": {},
   "outputs": [],
   "source": [
    "import pandas as pd\n",
    "import tensorflow as tf\n",
    "import numpy as np\n",
    "import tensorflow_hub as hub\n",
    "\n",
    "import matplotlib.pyplot as plt\n",
    "%matplotlib inline"
   ]
  },
  {
   "cell_type": "code",
   "execution_count": 9,
   "metadata": {},
   "outputs": [],
   "source": [
    "dataText = pd.read_csv(\"./train140.csv\",encoding=\"latin-1\")"
   ]
  },
  {
   "cell_type": "code",
   "execution_count": 11,
   "metadata": {},
   "outputs": [
    {
     "name": "stdout",
     "output_type": "stream",
     "text": [
      "<class 'pandas.core.frame.DataFrame'>\n",
      "RangeIndex: 1600000 entries, 0 to 1599999\n",
      "Data columns (total 6 columns):\n",
      " #   Column    Non-Null Count    Dtype \n",
      "---  ------    --------------    ----- \n",
      " 0   label     1600000 non-null  int64 \n",
      " 1   id        1600000 non-null  int64 \n",
      " 2   datetime  1600000 non-null  object\n",
      " 3   query     1600000 non-null  object\n",
      " 4   user      1600000 non-null  object\n",
      " 5   text      1600000 non-null  object\n",
      "dtypes: int64(2), object(4)\n",
      "memory usage: 73.2+ MB\n"
     ]
    }
   ],
   "source": [
    "dataText.info()"
   ]
  },
  {
   "cell_type": "code",
   "execution_count": 36,
   "metadata": {},
   "outputs": [
    {
     "data": {
      "text/plain": [
       "4    800000\n",
       "0    800000\n",
       "Name: label, dtype: int64"
      ]
     },
     "execution_count": 36,
     "metadata": {},
     "output_type": "execute_result"
    }
   ],
   "source": [
    "dataText[\"label\"].value_counts()"
   ]
  },
  {
   "cell_type": "code",
   "execution_count": 21,
   "metadata": {},
   "outputs": [],
   "source": [
    "testData = pd.read_csv(\"./test140.csv\",encoding=\"latin-1\")"
   ]
  },
  {
   "cell_type": "code",
   "execution_count": 35,
   "metadata": {},
   "outputs": [
    {
     "data": {
      "text/plain": [
       "4    182\n",
       "0    177\n",
       "2    139\n",
       "Name: label, dtype: int64"
      ]
     },
     "execution_count": 35,
     "metadata": {},
     "output_type": "execute_result"
    }
   ],
   "source": [
    "testData[\"label\"].value_counts()"
   ]
  },
  {
   "cell_type": "code",
   "execution_count": 24,
   "metadata": {},
   "outputs": [
    {
     "name": "stdout",
     "output_type": "stream",
     "text": [
      "<class 'pandas.core.frame.DataFrame'>\n",
      "RangeIndex: 498 entries, 0 to 497\n",
      "Data columns (total 6 columns):\n",
      " #   Column    Non-Null Count  Dtype \n",
      "---  ------    --------------  ----- \n",
      " 0   label     498 non-null    int64 \n",
      " 1   id        498 non-null    int64 \n",
      " 2   datetime  498 non-null    object\n",
      " 3   query     498 non-null    object\n",
      " 4   user      498 non-null    object\n",
      " 5   text      498 non-null    object\n",
      "dtypes: int64(2), object(4)\n",
      "memory usage: 23.5+ KB\n"
     ]
    }
   ],
   "source": [
    "testData.info()"
   ]
  },
  {
   "cell_type": "code",
   "execution_count": 26,
   "metadata": {},
   "outputs": [
    {
     "data": {
      "text/html": [
       "<div>\n",
       "<style scoped>\n",
       "    .dataframe tbody tr th:only-of-type {\n",
       "        vertical-align: middle;\n",
       "    }\n",
       "\n",
       "    .dataframe tbody tr th {\n",
       "        vertical-align: top;\n",
       "    }\n",
       "\n",
       "    .dataframe thead th {\n",
       "        text-align: right;\n",
       "    }\n",
       "</style>\n",
       "<table border=\"1\" class=\"dataframe\">\n",
       "  <thead>\n",
       "    <tr style=\"text-align: right;\">\n",
       "      <th></th>\n",
       "      <th>label</th>\n",
       "      <th>id</th>\n",
       "      <th>datetime</th>\n",
       "      <th>query</th>\n",
       "      <th>user</th>\n",
       "      <th>text</th>\n",
       "    </tr>\n",
       "  </thead>\n",
       "  <tbody>\n",
       "    <tr>\n",
       "      <th>0</th>\n",
       "      <td>0</td>\n",
       "      <td>1467810369</td>\n",
       "      <td>Mon Apr 06 22:19:45 PDT 2009</td>\n",
       "      <td>NO_QUERY</td>\n",
       "      <td>_TheSpecialOne_</td>\n",
       "      <td>@switchfoot http://twitpic.com/2y1zl - Awww, t...</td>\n",
       "    </tr>\n",
       "    <tr>\n",
       "      <th>1</th>\n",
       "      <td>0</td>\n",
       "      <td>1467810672</td>\n",
       "      <td>Mon Apr 06 22:19:49 PDT 2009</td>\n",
       "      <td>NO_QUERY</td>\n",
       "      <td>scotthamilton</td>\n",
       "      <td>is upset that he can't update his Facebook by ...</td>\n",
       "    </tr>\n",
       "    <tr>\n",
       "      <th>2</th>\n",
       "      <td>0</td>\n",
       "      <td>1467810917</td>\n",
       "      <td>Mon Apr 06 22:19:53 PDT 2009</td>\n",
       "      <td>NO_QUERY</td>\n",
       "      <td>mattycus</td>\n",
       "      <td>@Kenichan I dived many times for the ball. Man...</td>\n",
       "    </tr>\n",
       "    <tr>\n",
       "      <th>3</th>\n",
       "      <td>0</td>\n",
       "      <td>1467811184</td>\n",
       "      <td>Mon Apr 06 22:19:57 PDT 2009</td>\n",
       "      <td>NO_QUERY</td>\n",
       "      <td>ElleCTF</td>\n",
       "      <td>my whole body feels itchy and like its on fire</td>\n",
       "    </tr>\n",
       "    <tr>\n",
       "      <th>4</th>\n",
       "      <td>0</td>\n",
       "      <td>1467811193</td>\n",
       "      <td>Mon Apr 06 22:19:57 PDT 2009</td>\n",
       "      <td>NO_QUERY</td>\n",
       "      <td>Karoli</td>\n",
       "      <td>@nationwideclass no, it's not behaving at all....</td>\n",
       "    </tr>\n",
       "    <tr>\n",
       "      <th>...</th>\n",
       "      <td>...</td>\n",
       "      <td>...</td>\n",
       "      <td>...</td>\n",
       "      <td>...</td>\n",
       "      <td>...</td>\n",
       "      <td>...</td>\n",
       "    </tr>\n",
       "    <tr>\n",
       "      <th>1599995</th>\n",
       "      <td>4</td>\n",
       "      <td>2193601966</td>\n",
       "      <td>Tue Jun 16 08:40:49 PDT 2009</td>\n",
       "      <td>NO_QUERY</td>\n",
       "      <td>AmandaMarie1028</td>\n",
       "      <td>Just woke up. Having no school is the best fee...</td>\n",
       "    </tr>\n",
       "    <tr>\n",
       "      <th>1599996</th>\n",
       "      <td>4</td>\n",
       "      <td>2193601969</td>\n",
       "      <td>Tue Jun 16 08:40:49 PDT 2009</td>\n",
       "      <td>NO_QUERY</td>\n",
       "      <td>TheWDBoards</td>\n",
       "      <td>TheWDB.com - Very cool to hear old Walt interv...</td>\n",
       "    </tr>\n",
       "    <tr>\n",
       "      <th>1599997</th>\n",
       "      <td>4</td>\n",
       "      <td>2193601991</td>\n",
       "      <td>Tue Jun 16 08:40:49 PDT 2009</td>\n",
       "      <td>NO_QUERY</td>\n",
       "      <td>bpbabe</td>\n",
       "      <td>Are you ready for your MoJo Makeover? Ask me f...</td>\n",
       "    </tr>\n",
       "    <tr>\n",
       "      <th>1599998</th>\n",
       "      <td>4</td>\n",
       "      <td>2193602064</td>\n",
       "      <td>Tue Jun 16 08:40:49 PDT 2009</td>\n",
       "      <td>NO_QUERY</td>\n",
       "      <td>tinydiamondz</td>\n",
       "      <td>Happy 38th Birthday to my boo of alll time!!! ...</td>\n",
       "    </tr>\n",
       "    <tr>\n",
       "      <th>1599999</th>\n",
       "      <td>4</td>\n",
       "      <td>2193602129</td>\n",
       "      <td>Tue Jun 16 08:40:50 PDT 2009</td>\n",
       "      <td>NO_QUERY</td>\n",
       "      <td>RyanTrevMorris</td>\n",
       "      <td>happy #charitytuesday @theNSPCC @SparksCharity...</td>\n",
       "    </tr>\n",
       "  </tbody>\n",
       "</table>\n",
       "<p>1600000 rows × 6 columns</p>\n",
       "</div>"
      ],
      "text/plain": [
       "         label          id                      datetime     query  \\\n",
       "0            0  1467810369  Mon Apr 06 22:19:45 PDT 2009  NO_QUERY   \n",
       "1            0  1467810672  Mon Apr 06 22:19:49 PDT 2009  NO_QUERY   \n",
       "2            0  1467810917  Mon Apr 06 22:19:53 PDT 2009  NO_QUERY   \n",
       "3            0  1467811184  Mon Apr 06 22:19:57 PDT 2009  NO_QUERY   \n",
       "4            0  1467811193  Mon Apr 06 22:19:57 PDT 2009  NO_QUERY   \n",
       "...        ...         ...                           ...       ...   \n",
       "1599995      4  2193601966  Tue Jun 16 08:40:49 PDT 2009  NO_QUERY   \n",
       "1599996      4  2193601969  Tue Jun 16 08:40:49 PDT 2009  NO_QUERY   \n",
       "1599997      4  2193601991  Tue Jun 16 08:40:49 PDT 2009  NO_QUERY   \n",
       "1599998      4  2193602064  Tue Jun 16 08:40:49 PDT 2009  NO_QUERY   \n",
       "1599999      4  2193602129  Tue Jun 16 08:40:50 PDT 2009  NO_QUERY   \n",
       "\n",
       "                    user                                               text  \n",
       "0        _TheSpecialOne_  @switchfoot http://twitpic.com/2y1zl - Awww, t...  \n",
       "1          scotthamilton  is upset that he can't update his Facebook by ...  \n",
       "2               mattycus  @Kenichan I dived many times for the ball. Man...  \n",
       "3                ElleCTF    my whole body feels itchy and like its on fire   \n",
       "4                 Karoli  @nationwideclass no, it's not behaving at all....  \n",
       "...                  ...                                                ...  \n",
       "1599995  AmandaMarie1028  Just woke up. Having no school is the best fee...  \n",
       "1599996      TheWDBoards  TheWDB.com - Very cool to hear old Walt interv...  \n",
       "1599997           bpbabe  Are you ready for your MoJo Makeover? Ask me f...  \n",
       "1599998     tinydiamondz  Happy 38th Birthday to my boo of alll time!!! ...  \n",
       "1599999   RyanTrevMorris  happy #charitytuesday @theNSPCC @SparksCharity...  \n",
       "\n",
       "[1600000 rows x 6 columns]"
      ]
     },
     "execution_count": 26,
     "metadata": {},
     "output_type": "execute_result"
    }
   ],
   "source": [
    "dataText"
   ]
  },
  {
   "cell_type": "code",
   "execution_count": 32,
   "metadata": {},
   "outputs": [],
   "source": [
    "from tensorflow.keras.preprocessing.text import Tokenizer\n",
    "from tensorflow.keras.preprocessing.sequence import pad_sequences\n",
    "\n",
    "tokenizer1 = Tokenizer(num_words = 25000,oov_token='OOV',filters='!\"#$%&()*+,-./:;<=>@[\\]^_`{|}~ ')"
   ]
  },
  {
   "cell_type": "code",
   "execution_count": 41,
   "metadata": {},
   "outputs": [],
   "source": [
    "np.random.seed(44)\n",
    "N = len(dataText)\n",
    "shuffled_indices = np.random.permutation(N)\n",
    "dataLabelNum = dataText[\"label\"].copy()\n",
    "train_index = shuffled_indices[:int(N*0.9)]\n",
    "valid_index = shuffled_indices[int(N*0.9):]\n",
    "\n",
    "train_text = dataText.iloc[train_index]\n",
    "train_labelNum = dataLabelNum.iloc[train_index]\n",
    "\n",
    "valid_text = dataText.iloc[valid_index]\n",
    "valid_labelNum = dataLabelNum.iloc[valid_index]"
   ]
  },
  {
   "cell_type": "code",
   "execution_count": 42,
   "metadata": {},
   "outputs": [
    {
     "data": {
      "text/plain": [
       "(1545897    4\n",
       " 141842     0\n",
       " 1245796    4\n",
       " 785684     0\n",
       " 784358     0\n",
       "           ..\n",
       " 1146260    4\n",
       " 1198472    4\n",
       " 358495     0\n",
       " 891790     4\n",
       " 931128     4\n",
       " Name: label, Length: 1440000, dtype: int64,\n",
       " 1578239    4\n",
       " 285524     0\n",
       " 1129823    4\n",
       " 1594219    4\n",
       " 1292100    4\n",
       "           ..\n",
       " 641120     0\n",
       " 49723      0\n",
       " 156845     0\n",
       " 1305329    4\n",
       " 1586964    4\n",
       " Name: label, Length: 160000, dtype: int64,\n",
       "                                                       text\n",
       " 1545897  im sooooo funny ik! camp is so fun! iguess????...\n",
       " 141842                  offffft its rainingg so mucccccch \n",
       " 1245796                    emptying the inbox. #inboxZero \n",
       " 785684   Justine's gone from #Masterchef  will the show...\n",
       " 784358   mad is hell i got a drive 2 queens in like 2 h...\n",
       " ...                                                    ...\n",
       " 1146260  I have a feeling I'm too tired to sleep much  ...\n",
       " 1198472  Going to bed now. Tomorrow the course starts e...\n",
       " 358495   waiting for @jessoms to call me and tell me sh...\n",
       " 891790   @iamashlee Yeah, you should get one, so you ca...\n",
       " 931128   @Xi7 had a realistic dream, I think everyone h...\n",
       " \n",
       " [1440000 rows x 1 columns],\n",
       "                                                       text\n",
       " 1578239  Broadcasting Jersey Shore Catholic Radio at ht...\n",
       " 285524                       has so failed her maths exam \n",
       " 1129823                                @inertiarus thanks \n",
       " 1594219  watching royal ascot, cold beer, internet bett...\n",
       " 1292100  @TipSquirrel Hi Tipsy (new nickname, it'll pro...\n",
       " ...                                                    ...\n",
       " 641120                        @Miamoodles did i? :/ meany \n",
       " 49723    I was just checking Google Analytics (which I ...\n",
       " 156845   @Tomonthly  shut up. i'll kill yew. not really...\n",
       " 1305329  @Applez357 yes, yes I would and I'd lick my fi...\n",
       " 1586964  steph and i are planning to tell every single ...\n",
       " \n",
       " [160000 rows x 1 columns])"
      ]
     },
     "execution_count": 42,
     "metadata": {},
     "output_type": "execute_result"
    }
   ],
   "source": [
    "trainSet = train_text.drop(columns = ['id','datetime','query','user','label'])\n",
    "validSet = valid_text.drop(columns = ['id','datetime','query','user','label'])\n",
    "\n",
    "train_labelNum,valid_labelNum,trainSet,validSet"
   ]
  },
  {
   "cell_type": "markdown",
   "metadata": {},
   "source": [
    "due to the nature of the training set, this would be binary sentiment prediction, and will later set threshold on how to determine neutral label."
   ]
  },
  {
   "cell_type": "code",
   "execution_count": 43,
   "metadata": {},
   "outputs": [
    {
     "data": {
      "text/plain": [
       "(0      4\n",
       " 1      4\n",
       " 2      4\n",
       " 3      4\n",
       " 4      4\n",
       "       ..\n",
       " 493    2\n",
       " 494    0\n",
       " 495    4\n",
       " 496    0\n",
       " 497    0\n",
       " Name: label, Length: 498, dtype: int64,\n",
       " 0      @stellargirl I loooooooovvvvvveee my Kindle2. ...\n",
       " 1      Reading my kindle2...  Love it... Lee childs i...\n",
       " 2      Ok, first assesment of the #kindle2 ...it fuck...\n",
       " 3      @kenburbary You'll love your Kindle2. I've had...\n",
       " 4      @mikefish  Fair enough. But i have the Kindle2...\n",
       "                              ...                        \n",
       " 493    Ask Programming: LaTeX or InDesign?: submitted...\n",
       " 494    On that note, I hate Word. I hate Pages. I hat...\n",
       " 495    Ahhh... back in a *real* text editing environm...\n",
       " 496    Trouble in Iran, I see. Hmm. Iran. Iran so far...\n",
       " 497    Reading the tweets coming out of Iran... The w...\n",
       " Name: text, Length: 498, dtype: object)"
      ]
     },
     "execution_count": 43,
     "metadata": {},
     "output_type": "execute_result"
    }
   ],
   "source": [
    "test_labelNum = testData[\"label\"].copy()\n",
    "testSet = testData[\"text\"].copy()\n",
    "test_labelNum, testSet"
   ]
  },
  {
   "cell_type": "code",
   "execution_count": 45,
   "metadata": {},
   "outputs": [],
   "source": [
    "trainLabel = tf.one_hot(train_labelNum.to_numpy(),2).numpy()\n",
    "validLabel = tf.one_hot(valid_labelNum.to_numpy(),2).numpy()"
   ]
  },
  {
   "cell_type": "code",
   "execution_count": 53,
   "metadata": {},
   "outputs": [
    {
     "data": {
      "text/plain": [
       "18045"
      ]
     },
     "execution_count": 53,
     "metadata": {},
     "output_type": "execute_result"
    }
   ],
   "source": [
    "# checking the number of popular words so that I can put initiate the tokenizer\n",
    "import collections\n",
    "temp_text = ' '.join(trainSet[\"text\"])\n",
    "words = temp_text.split()\n",
    "counter = collections.Counter(words)\n",
    "\n",
    "word_count = set()\n",
    "for item in set(words):\n",
    "    if counter[item]>35:\n",
    "        word_count.add(item.lower())\n",
    "        \n",
    "len(word_count)"
   ]
  },
  {
   "cell_type": "code",
   "execution_count": 61,
   "metadata": {},
   "outputs": [],
   "source": [
    "tokenizer1 = Tokenizer(num_words = 18000,oov_token='OOV',filters='!\"#$%&()*+,-./:;<=>@[\\]^_`{|}~ ')\n",
    "tokenizer1.fit_on_texts(list(trainSet[\"text\"].values))\n",
    "\n"
   ]
  },
  {
   "cell_type": "code",
   "execution_count": 62,
   "metadata": {},
   "outputs": [
    {
     "data": {
      "text/plain": [
       "(array([[0., 0.],\n",
       "        [1., 0.],\n",
       "        [0., 0.],\n",
       "        ...,\n",
       "        [1., 0.],\n",
       "        [0., 0.],\n",
       "        [0., 0.]], dtype=float32),\n",
       " array([[0., 0.],\n",
       "        [1., 0.],\n",
       "        [0., 0.],\n",
       "        ...,\n",
       "        [1., 0.],\n",
       "        [0., 0.],\n",
       "        [0., 0.]], dtype=float32))"
      ]
     },
     "execution_count": 62,
     "metadata": {},
     "output_type": "execute_result"
    }
   ],
   "source": [
    "trainLabel, validLabel"
   ]
  },
  {
   "cell_type": "code",
   "execution_count": 63,
   "metadata": {},
   "outputs": [],
   "source": [
    "trainSeq1 = tokenizer1.texts_to_sequences(trainSet[\"text\"])\n",
    "trainPad1 = pad_sequences(trainSeq1, maxlen = 100, padding = 'pre', truncating = 'pre')\n",
    "validSeq1 = tokenizer1.texts_to_sequences(validSet[\"text\"])\n",
    "validPad1 = pad_sequences(validSeq1, maxlen = 100, padding = 'pre', truncating = 'pre')\n"
   ]
  },
  {
   "cell_type": "code",
   "execution_count": 68,
   "metadata": {},
   "outputs": [
    {
     "name": "stdout",
     "output_type": "stream",
     "text": [
      "Model: \"sequential\"\n",
      "_________________________________________________________________\n",
      "Layer (type)                 Output Shape              Param #   \n",
      "=================================================================\n",
      "embedding (Embedding)        (None, 100, 16)           288000    \n",
      "_________________________________________________________________\n",
      "bidirectional_4 (Bidirection (None, 100, 32)           4224      \n",
      "_________________________________________________________________\n",
      "bidirectional_5 (Bidirection (None, 32)                6272      \n",
      "_________________________________________________________________\n",
      "dense (Dense)                (None, 16)                528       \n",
      "_________________________________________________________________\n",
      "dropout (Dropout)            (None, 16)                0         \n",
      "_________________________________________________________________\n",
      "dense_1 (Dense)              (None, 2)                 34        \n",
      "=================================================================\n",
      "Total params: 299,058\n",
      "Trainable params: 299,058\n",
      "Non-trainable params: 0\n",
      "_________________________________________________________________\n"
     ]
    }
   ],
   "source": [
    "model1 = tf.keras.Sequential([\n",
    "    tf.keras.layers.Embedding(18000,output_dim = 16, input_length = 100,name=\"embedding\",mask_zero=False),\n",
    "    tf.keras.layers.Bidirectional(tf.keras.layers.LSTM(16,return_sequences=True)),\n",
    "    tf.keras.layers.Bidirectional(tf.keras.layers.LSTM(16,return_sequences=False)),\n",
    "    tf.keras.layers.Dense(16, activation = 'relu'),\n",
    "    tf.keras.layers.Dropout(0.2),\n",
    "    tf.keras.layers.Dense(2,activation='softmax'),\n",
    "    \n",
    "])\n",
    "\n",
    "model1.compile(optimizer = 'adam',loss = tf.keras.losses.CategoricalCrossentropy(from_logits=False),metrics=['accuracy'])\n",
    "model1.summary()"
   ]
  },
  {
   "cell_type": "code",
   "execution_count": 69,
   "metadata": {},
   "outputs": [
    {
     "name": "stdout",
     "output_type": "stream",
     "text": [
      "Epoch 1/8\n",
      "45000/45000 [==============================] - 905s 20ms/step - loss: 0.6567 - accuracy: 0.9165 - val_loss: 0.1572 - val_accuracy: 1.0000\n",
      "Epoch 2/8\n",
      "45000/45000 [==============================] - 896s 20ms/step - loss: 0.1293 - accuracy: 0.9712 - val_loss: 0.3157 - val_accuracy: 1.0000\n",
      "Epoch 3/8\n",
      "45000/45000 [==============================] - 897s 20ms/step - loss: 0.1673 - accuracy: 0.8823 - val_loss: 0.1918 - val_accuracy: 1.0000\n",
      "Epoch 4/8\n",
      "45000/45000 [==============================] - 897s 20ms/step - loss: 0.2193 - accuracy: 0.8247 - val_loss: 0.0386 - val_accuracy: 1.0000\n",
      "Epoch 5/8\n",
      "45000/45000 [==============================] - 898s 20ms/step - loss: 0.2973 - accuracy: 0.7998 - val_loss: 0.1623 - val_accuracy: 1.0000\n",
      "Epoch 6/8\n",
      "45000/45000 [==============================] - 897s 20ms/step - loss: 0.3950 - accuracy: 0.7867 - val_loss: 1.7950e-07 - val_accuracy: 1.0000\n",
      "Epoch 7/8\n",
      "45000/45000 [==============================] - 897s 20ms/step - loss: 0.4966 - accuracy: 0.7801 - val_loss: 0.0091 - val_accuracy: 1.0000\n",
      "Epoch 8/8\n",
      "45000/45000 [==============================] - 897s 20ms/step - loss: 0.5961 - accuracy: 0.7785 - val_loss: 1.0914e-06 - val_accuracy: 1.0000\n"
     ]
    },
    {
     "data": {
      "text/plain": [
       "<tensorflow.python.keras.callbacks.History at 0x143548444f0>"
      ]
     },
     "execution_count": 69,
     "metadata": {},
     "output_type": "execute_result"
    }
   ],
   "source": [
    "tsb_callback = tf.keras.callbacks.TensorBoard(log_dir=\"logs\")\n",
    "model1.fit(trainPad1,trainLabel,epochs=8,batch_size=32,\n",
    "          validation_data=(validPad1,validLabel),\n",
    "           callbacks = [tsb_callback]\n",
    "          )"
   ]
  },
  {
   "cell_type": "code",
   "execution_count": 74,
   "metadata": {},
   "outputs": [
    {
     "data": {
      "text/plain": [
       "4    720306\n",
       "0    719694\n",
       "Name: label, dtype: int64"
      ]
     },
     "execution_count": 74,
     "metadata": {},
     "output_type": "execute_result"
    }
   ],
   "source": [
    "train_labelNum.value_counts()"
   ]
  },
  {
   "cell_type": "code",
   "execution_count": 80,
   "metadata": {},
   "outputs": [
    {
     "data": {
      "text/plain": [
       "(0      @stellargirl I loooooooovvvvvveee my Kindle2. ...\n",
       " 1      Reading my kindle2...  Love it... Lee childs i...\n",
       " 2      Ok, first assesment of the #kindle2 ...it fuck...\n",
       " 3      @kenburbary You'll love your Kindle2. I've had...\n",
       " 4      @mikefish  Fair enough. But i have the Kindle2...\n",
       "                              ...                        \n",
       " 493    Ask Programming: LaTeX or InDesign?: submitted...\n",
       " 494    On that note, I hate Word. I hate Pages. I hat...\n",
       " 495    Ahhh... back in a *real* text editing environm...\n",
       " 496    Trouble in Iran, I see. Hmm. Iran. Iran so far...\n",
       " 497    Reading the tweets coming out of Iran... The w...\n",
       " Name: text, Length: 498, dtype: object,\n",
       " 0      4\n",
       " 1      4\n",
       " 2      4\n",
       " 3      4\n",
       " 4      4\n",
       "       ..\n",
       " 493    2\n",
       " 494    0\n",
       " 495    4\n",
       " 496    0\n",
       " 497    0\n",
       " Name: label, Length: 498, dtype: int64)"
      ]
     },
     "execution_count": 80,
     "metadata": {},
     "output_type": "execute_result"
    }
   ],
   "source": [
    "testSet,test_labelNum"
   ]
  },
  {
   "cell_type": "code",
   "execution_count": 81,
   "metadata": {},
   "outputs": [],
   "source": [
    "testSeq1 = tokenizer1.texts_to_sequences(testSet)\n",
    "testPad1 = pad_sequences(testSeq1, maxlen = 100, padding = 'pre', truncating = 'pre')"
   ]
  },
  {
   "cell_type": "code",
   "execution_count": 82,
   "metadata": {},
   "outputs": [
    {
     "data": {
      "text/plain": [
       "array([[9.9999774e-01, 2.2603242e-06],\n",
       "       [9.9999774e-01, 2.2603242e-06],\n",
       "       [9.9999774e-01, 2.2603242e-06],\n",
       "       [9.9999774e-01, 2.2603242e-06],\n",
       "       [9.9999774e-01, 2.2603242e-06],\n",
       "       [9.9999774e-01, 2.2603242e-06],\n",
       "       [9.9999774e-01, 2.2603242e-06],\n",
       "       [9.9999774e-01, 2.2603242e-06],\n",
       "       [9.9999774e-01, 2.2603242e-06],\n",
       "       [9.9999774e-01, 2.2603242e-06],\n",
       "       [9.9999774e-01, 2.2603242e-06],\n",
       "       [9.9999774e-01, 2.2603242e-06],\n",
       "       [9.9999774e-01, 2.2603242e-06],\n",
       "       [9.9999774e-01, 2.2603242e-06],\n",
       "       [9.9999774e-01, 2.2603242e-06],\n",
       "       [9.9999774e-01, 2.2603242e-06],\n",
       "       [9.9999774e-01, 2.2603242e-06],\n",
       "       [9.9999774e-01, 2.2603242e-06],\n",
       "       [9.9999774e-01, 2.2603242e-06],\n",
       "       [9.9999774e-01, 2.2603242e-06],\n",
       "       [9.9999774e-01, 2.2603242e-06],\n",
       "       [9.9999774e-01, 2.2603242e-06],\n",
       "       [9.9999774e-01, 2.2603242e-06],\n",
       "       [9.9999774e-01, 2.2603242e-06],\n",
       "       [9.9999774e-01, 2.2603242e-06],\n",
       "       [9.9999774e-01, 2.2603242e-06],\n",
       "       [9.9999774e-01, 2.2603242e-06],\n",
       "       [9.9999774e-01, 2.2603242e-06],\n",
       "       [9.9999774e-01, 2.2603242e-06],\n",
       "       [9.9999774e-01, 2.2603242e-06],\n",
       "       [9.9999917e-01, 8.3152804e-07],\n",
       "       [9.9999917e-01, 8.3152804e-07],\n",
       "       [9.9999774e-01, 2.2603242e-06],\n",
       "       [9.9999774e-01, 2.2603242e-06],\n",
       "       [9.9999774e-01, 2.2603242e-06],\n",
       "       [9.9999774e-01, 2.2603242e-06],\n",
       "       [9.9999774e-01, 2.2603242e-06],\n",
       "       [9.9999774e-01, 2.2603242e-06],\n",
       "       [9.9999774e-01, 2.2603242e-06],\n",
       "       [9.9999774e-01, 2.2603242e-06],\n",
       "       [9.9999774e-01, 2.2603242e-06],\n",
       "       [9.9999774e-01, 2.2603242e-06],\n",
       "       [9.9999774e-01, 2.2603242e-06],\n",
       "       [9.9999774e-01, 2.2603242e-06],\n",
       "       [9.9999774e-01, 2.2603242e-06],\n",
       "       [9.9999774e-01, 2.2603242e-06],\n",
       "       [9.9999774e-01, 2.2603242e-06],\n",
       "       [9.9999774e-01, 2.2603242e-06],\n",
       "       [9.9999774e-01, 2.2603242e-06],\n",
       "       [9.9999774e-01, 2.2603242e-06],\n",
       "       [9.9999774e-01, 2.2603242e-06],\n",
       "       [9.9999774e-01, 2.2603242e-06],\n",
       "       [9.9999774e-01, 2.2603242e-06],\n",
       "       [9.9999774e-01, 2.2603242e-06],\n",
       "       [9.9999774e-01, 2.2603242e-06],\n",
       "       [9.9999774e-01, 2.2603242e-06],\n",
       "       [9.9999774e-01, 2.2603242e-06],\n",
       "       [9.9999774e-01, 2.2603242e-06],\n",
       "       [9.9999774e-01, 2.2603242e-06],\n",
       "       [9.9999774e-01, 2.2603242e-06],\n",
       "       [9.9999774e-01, 2.2603242e-06],\n",
       "       [9.9999774e-01, 2.2603242e-06],\n",
       "       [9.9999917e-01, 8.3152804e-07],\n",
       "       [9.9999917e-01, 8.3152804e-07],\n",
       "       [9.9999774e-01, 2.2603242e-06],\n",
       "       [9.9999774e-01, 2.2603242e-06],\n",
       "       [9.9999774e-01, 2.2603242e-06],\n",
       "       [9.9999774e-01, 2.2603242e-06],\n",
       "       [9.9999774e-01, 2.2603242e-06],\n",
       "       [9.9999774e-01, 2.2603242e-06],\n",
       "       [9.9999774e-01, 2.2603242e-06],\n",
       "       [9.9999774e-01, 2.2603242e-06],\n",
       "       [9.9999774e-01, 2.2603242e-06],\n",
       "       [9.9999774e-01, 2.2603242e-06],\n",
       "       [9.9999774e-01, 2.2603242e-06],\n",
       "       [9.9999774e-01, 2.2603242e-06],\n",
       "       [9.9999774e-01, 2.2603242e-06],\n",
       "       [9.9999774e-01, 2.2603242e-06],\n",
       "       [9.9999774e-01, 2.2603242e-06],\n",
       "       [9.9999774e-01, 2.2603242e-06],\n",
       "       [9.9999774e-01, 2.2603242e-06],\n",
       "       [9.9999774e-01, 2.2603242e-06],\n",
       "       [9.9999774e-01, 2.2603242e-06],\n",
       "       [9.9999774e-01, 2.2603242e-06],\n",
       "       [9.9999774e-01, 2.2603242e-06],\n",
       "       [9.9999774e-01, 2.2603242e-06],\n",
       "       [9.9999774e-01, 2.2603242e-06],\n",
       "       [9.9999774e-01, 2.2603242e-06],\n",
       "       [9.9999774e-01, 2.2603242e-06],\n",
       "       [9.9999774e-01, 2.2603242e-06],\n",
       "       [9.9999774e-01, 2.2603242e-06],\n",
       "       [9.9999774e-01, 2.2603242e-06],\n",
       "       [9.9999774e-01, 2.2603242e-06],\n",
       "       [9.9999774e-01, 2.2603242e-06],\n",
       "       [9.9999917e-01, 8.3152804e-07],\n",
       "       [9.9999917e-01, 8.3152804e-07],\n",
       "       [9.9999774e-01, 2.2603242e-06],\n",
       "       [9.9999774e-01, 2.2603242e-06],\n",
       "       [9.9999774e-01, 2.2603242e-06],\n",
       "       [9.9999774e-01, 2.2603242e-06],\n",
       "       [9.9999774e-01, 2.2603242e-06],\n",
       "       [9.9999774e-01, 2.2603242e-06],\n",
       "       [9.9999774e-01, 2.2603242e-06],\n",
       "       [9.9999774e-01, 2.2603242e-06],\n",
       "       [9.9999774e-01, 2.2603242e-06],\n",
       "       [9.9999774e-01, 2.2603242e-06],\n",
       "       [9.9999774e-01, 2.2603242e-06],\n",
       "       [9.9999774e-01, 2.2603242e-06],\n",
       "       [9.9999774e-01, 2.2603242e-06],\n",
       "       [9.9999774e-01, 2.2603242e-06],\n",
       "       [9.9999774e-01, 2.2603242e-06],\n",
       "       [9.9999774e-01, 2.2603242e-06],\n",
       "       [9.9999774e-01, 2.2603242e-06],\n",
       "       [9.9999774e-01, 2.2603242e-06],\n",
       "       [9.9999774e-01, 2.2603242e-06],\n",
       "       [9.9999774e-01, 2.2603242e-06],\n",
       "       [9.9999774e-01, 2.2603242e-06],\n",
       "       [9.9999774e-01, 2.2603242e-06],\n",
       "       [9.9999774e-01, 2.2603242e-06],\n",
       "       [9.9999774e-01, 2.2603242e-06],\n",
       "       [9.9999774e-01, 2.2603242e-06],\n",
       "       [9.9999774e-01, 2.2603242e-06],\n",
       "       [9.9999774e-01, 2.2603242e-06],\n",
       "       [9.9999774e-01, 2.2603242e-06],\n",
       "       [9.9999774e-01, 2.2603242e-06],\n",
       "       [9.9999774e-01, 2.2603242e-06],\n",
       "       [9.9999917e-01, 8.3152804e-07],\n",
       "       [9.9999917e-01, 8.3152804e-07],\n",
       "       [9.9999774e-01, 2.2603242e-06],\n",
       "       [9.9999774e-01, 2.2603242e-06],\n",
       "       [9.9999774e-01, 2.2603242e-06],\n",
       "       [9.9999774e-01, 2.2603242e-06],\n",
       "       [9.9999774e-01, 2.2603242e-06],\n",
       "       [9.9999774e-01, 2.2603242e-06],\n",
       "       [9.9999774e-01, 2.2603242e-06],\n",
       "       [9.9999774e-01, 2.2603242e-06],\n",
       "       [9.9999774e-01, 2.2603242e-06],\n",
       "       [9.9999774e-01, 2.2603242e-06],\n",
       "       [9.9999774e-01, 2.2603242e-06],\n",
       "       [9.9999774e-01, 2.2603242e-06],\n",
       "       [9.9999774e-01, 2.2603242e-06],\n",
       "       [9.9999774e-01, 2.2603242e-06],\n",
       "       [9.9999774e-01, 2.2603242e-06],\n",
       "       [9.9999774e-01, 2.2603242e-06],\n",
       "       [9.9999774e-01, 2.2603242e-06],\n",
       "       [9.9999774e-01, 2.2603242e-06],\n",
       "       [9.9999774e-01, 2.2603242e-06],\n",
       "       [9.9999774e-01, 2.2603242e-06],\n",
       "       [9.9999774e-01, 2.2603242e-06],\n",
       "       [9.9999774e-01, 2.2603242e-06],\n",
       "       [9.9999774e-01, 2.2603242e-06],\n",
       "       [9.9999774e-01, 2.2603242e-06],\n",
       "       [9.9999774e-01, 2.2603242e-06],\n",
       "       [9.9999774e-01, 2.2603242e-06],\n",
       "       [9.9999774e-01, 2.2603242e-06],\n",
       "       [9.9999774e-01, 2.2603242e-06],\n",
       "       [9.9999774e-01, 2.2603242e-06],\n",
       "       [9.9999774e-01, 2.2603242e-06],\n",
       "       [9.9999917e-01, 8.3152804e-07],\n",
       "       [9.9999917e-01, 8.3152804e-07],\n",
       "       [9.9999774e-01, 2.2603242e-06],\n",
       "       [9.9999774e-01, 2.2603242e-06],\n",
       "       [9.9999774e-01, 2.2603242e-06],\n",
       "       [9.9999774e-01, 2.2603242e-06],\n",
       "       [9.9999774e-01, 2.2603242e-06],\n",
       "       [9.9999774e-01, 2.2603242e-06],\n",
       "       [9.9999774e-01, 2.2603242e-06],\n",
       "       [9.9999774e-01, 2.2603242e-06],\n",
       "       [9.9999774e-01, 2.2603242e-06],\n",
       "       [9.9999774e-01, 2.2603242e-06],\n",
       "       [9.9999774e-01, 2.2603242e-06],\n",
       "       [9.9999774e-01, 2.2603242e-06],\n",
       "       [9.9999774e-01, 2.2603242e-06],\n",
       "       [9.9999774e-01, 2.2603242e-06],\n",
       "       [9.9999774e-01, 2.2603242e-06],\n",
       "       [9.9999774e-01, 2.2603242e-06],\n",
       "       [9.9999774e-01, 2.2603242e-06],\n",
       "       [9.9999774e-01, 2.2603242e-06],\n",
       "       [9.9999774e-01, 2.2603242e-06],\n",
       "       [9.9999774e-01, 2.2603242e-06],\n",
       "       [9.9999774e-01, 2.2603242e-06],\n",
       "       [9.9999774e-01, 2.2603242e-06],\n",
       "       [9.9999774e-01, 2.2603242e-06],\n",
       "       [9.9999774e-01, 2.2603242e-06],\n",
       "       [9.9999774e-01, 2.2603242e-06],\n",
       "       [9.9999774e-01, 2.2603242e-06],\n",
       "       [9.9999774e-01, 2.2603242e-06],\n",
       "       [9.9999774e-01, 2.2603242e-06],\n",
       "       [9.9999774e-01, 2.2603242e-06],\n",
       "       [9.9999774e-01, 2.2603242e-06],\n",
       "       [9.9999917e-01, 8.3152804e-07],\n",
       "       [9.9999917e-01, 8.3152804e-07],\n",
       "       [9.9999774e-01, 2.2603242e-06],\n",
       "       [9.9999774e-01, 2.2603242e-06],\n",
       "       [9.9999774e-01, 2.2603242e-06],\n",
       "       [9.9999774e-01, 2.2603242e-06],\n",
       "       [9.9999774e-01, 2.2603242e-06],\n",
       "       [9.9999774e-01, 2.2603242e-06],\n",
       "       [9.9999774e-01, 2.2603242e-06],\n",
       "       [9.9999774e-01, 2.2603242e-06],\n",
       "       [9.9999774e-01, 2.2603242e-06],\n",
       "       [9.9999774e-01, 2.2603242e-06],\n",
       "       [9.9999774e-01, 2.2603242e-06],\n",
       "       [9.9999774e-01, 2.2603242e-06],\n",
       "       [9.9999774e-01, 2.2603242e-06],\n",
       "       [9.9999774e-01, 2.2603242e-06],\n",
       "       [9.9999774e-01, 2.2603242e-06],\n",
       "       [9.9999774e-01, 2.2603242e-06],\n",
       "       [9.9999774e-01, 2.2603242e-06],\n",
       "       [9.9999774e-01, 2.2603242e-06],\n",
       "       [9.9999774e-01, 2.2603242e-06],\n",
       "       [9.9999774e-01, 2.2603242e-06],\n",
       "       [9.9999774e-01, 2.2603242e-06],\n",
       "       [9.9999774e-01, 2.2603242e-06],\n",
       "       [9.9999774e-01, 2.2603242e-06],\n",
       "       [9.9999774e-01, 2.2603242e-06],\n",
       "       [9.9999774e-01, 2.2603242e-06],\n",
       "       [9.9999774e-01, 2.2603242e-06],\n",
       "       [9.9999774e-01, 2.2603242e-06],\n",
       "       [9.9999774e-01, 2.2603242e-06],\n",
       "       [9.9999774e-01, 2.2603242e-06],\n",
       "       [9.9999774e-01, 2.2603242e-06],\n",
       "       [9.9999917e-01, 8.3152804e-07],\n",
       "       [9.9999917e-01, 8.3152804e-07],\n",
       "       [9.9999774e-01, 2.2603242e-06],\n",
       "       [9.9999774e-01, 2.2603242e-06],\n",
       "       [9.9999774e-01, 2.2603242e-06],\n",
       "       [9.9999774e-01, 2.2603242e-06],\n",
       "       [9.9999774e-01, 2.2603242e-06],\n",
       "       [9.9999774e-01, 2.2603242e-06],\n",
       "       [9.9999774e-01, 2.2603242e-06],\n",
       "       [9.9999774e-01, 2.2603242e-06],\n",
       "       [9.9999774e-01, 2.2603242e-06],\n",
       "       [9.9999774e-01, 2.2603242e-06],\n",
       "       [9.9999774e-01, 2.2603242e-06],\n",
       "       [9.9999774e-01, 2.2603242e-06],\n",
       "       [9.9999774e-01, 2.2603242e-06],\n",
       "       [9.9999774e-01, 2.2603242e-06],\n",
       "       [9.9999774e-01, 2.2603242e-06],\n",
       "       [9.9999774e-01, 2.2603242e-06],\n",
       "       [9.9999774e-01, 2.2603242e-06],\n",
       "       [9.9999774e-01, 2.2603242e-06],\n",
       "       [9.9999774e-01, 2.2603242e-06],\n",
       "       [9.9999774e-01, 2.2603242e-06],\n",
       "       [9.9999774e-01, 2.2603242e-06],\n",
       "       [9.9999774e-01, 2.2603242e-06],\n",
       "       [9.9999774e-01, 2.2603242e-06],\n",
       "       [9.9999774e-01, 2.2603242e-06],\n",
       "       [9.9999774e-01, 2.2603242e-06],\n",
       "       [9.9999774e-01, 2.2603242e-06],\n",
       "       [9.9999774e-01, 2.2603242e-06],\n",
       "       [9.9999774e-01, 2.2603242e-06],\n",
       "       [9.9999774e-01, 2.2603242e-06],\n",
       "       [9.9999774e-01, 2.2603242e-06],\n",
       "       [9.9999917e-01, 8.3152804e-07],\n",
       "       [9.9999917e-01, 8.3152804e-07],\n",
       "       [9.9999774e-01, 2.2603242e-06],\n",
       "       [9.9999774e-01, 2.2603242e-06],\n",
       "       [9.9999774e-01, 2.2603242e-06],\n",
       "       [9.9999774e-01, 2.2603242e-06],\n",
       "       [9.9999774e-01, 2.2603242e-06],\n",
       "       [9.9999774e-01, 2.2603242e-06],\n",
       "       [9.9999774e-01, 2.2603242e-06],\n",
       "       [9.9999774e-01, 2.2603242e-06],\n",
       "       [9.9999774e-01, 2.2603242e-06],\n",
       "       [9.9999774e-01, 2.2603242e-06],\n",
       "       [9.9999774e-01, 2.2603242e-06],\n",
       "       [9.9999774e-01, 2.2603242e-06],\n",
       "       [9.9999774e-01, 2.2603242e-06],\n",
       "       [9.9999774e-01, 2.2603242e-06],\n",
       "       [9.9999774e-01, 2.2603242e-06],\n",
       "       [9.9999774e-01, 2.2603242e-06],\n",
       "       [9.9999774e-01, 2.2603242e-06],\n",
       "       [9.9999774e-01, 2.2603242e-06],\n",
       "       [9.9999774e-01, 2.2603242e-06],\n",
       "       [9.9999774e-01, 2.2603242e-06],\n",
       "       [9.9999774e-01, 2.2603242e-06],\n",
       "       [9.9999774e-01, 2.2603242e-06],\n",
       "       [9.9999774e-01, 2.2603242e-06],\n",
       "       [9.9999774e-01, 2.2603242e-06],\n",
       "       [9.9999774e-01, 2.2603242e-06],\n",
       "       [9.9999774e-01, 2.2603242e-06],\n",
       "       [9.9999774e-01, 2.2603242e-06],\n",
       "       [9.9999774e-01, 2.2603242e-06],\n",
       "       [9.9999774e-01, 2.2603242e-06],\n",
       "       [9.9999774e-01, 2.2603242e-06],\n",
       "       [9.9999917e-01, 8.3152804e-07],\n",
       "       [9.9999917e-01, 8.3152804e-07],\n",
       "       [9.9999774e-01, 2.2603242e-06],\n",
       "       [9.9999774e-01, 2.2603242e-06],\n",
       "       [9.9999774e-01, 2.2603242e-06],\n",
       "       [9.9999774e-01, 2.2603242e-06],\n",
       "       [9.9999774e-01, 2.2603242e-06],\n",
       "       [9.9999774e-01, 2.2603242e-06],\n",
       "       [9.9999774e-01, 2.2603242e-06],\n",
       "       [9.9999774e-01, 2.2603242e-06],\n",
       "       [9.9999774e-01, 2.2603242e-06],\n",
       "       [9.9999774e-01, 2.2603242e-06],\n",
       "       [9.9999774e-01, 2.2603242e-06],\n",
       "       [9.9999774e-01, 2.2603242e-06],\n",
       "       [9.9999774e-01, 2.2603242e-06],\n",
       "       [9.9999774e-01, 2.2603242e-06],\n",
       "       [9.9999774e-01, 2.2603242e-06],\n",
       "       [9.9999774e-01, 2.2603242e-06],\n",
       "       [9.9999774e-01, 2.2603242e-06],\n",
       "       [9.9999774e-01, 2.2603242e-06],\n",
       "       [9.9999774e-01, 2.2603242e-06],\n",
       "       [9.9999774e-01, 2.2603242e-06],\n",
       "       [9.9999774e-01, 2.2603242e-06],\n",
       "       [9.9999774e-01, 2.2603242e-06],\n",
       "       [9.9999774e-01, 2.2603242e-06],\n",
       "       [9.9999774e-01, 2.2603242e-06],\n",
       "       [9.9999774e-01, 2.2603242e-06],\n",
       "       [9.9999774e-01, 2.2603242e-06],\n",
       "       [9.9999774e-01, 2.2603242e-06],\n",
       "       [9.9999774e-01, 2.2603242e-06],\n",
       "       [9.9999774e-01, 2.2603242e-06],\n",
       "       [9.9999774e-01, 2.2603242e-06],\n",
       "       [9.9999917e-01, 8.3152804e-07],\n",
       "       [9.9999917e-01, 8.3152804e-07],\n",
       "       [9.9999774e-01, 2.2603242e-06],\n",
       "       [9.9999774e-01, 2.2603242e-06],\n",
       "       [9.9999774e-01, 2.2603242e-06],\n",
       "       [9.9999774e-01, 2.2603242e-06],\n",
       "       [9.9999774e-01, 2.2603242e-06],\n",
       "       [9.9999774e-01, 2.2603242e-06],\n",
       "       [9.9999774e-01, 2.2603242e-06],\n",
       "       [9.9999774e-01, 2.2603242e-06],\n",
       "       [9.9999774e-01, 2.2603242e-06],\n",
       "       [9.9999774e-01, 2.2603242e-06],\n",
       "       [9.9999774e-01, 2.2603242e-06],\n",
       "       [9.9999774e-01, 2.2603242e-06],\n",
       "       [9.9999774e-01, 2.2603242e-06],\n",
       "       [9.9999774e-01, 2.2603242e-06],\n",
       "       [9.9999774e-01, 2.2603242e-06],\n",
       "       [9.9999774e-01, 2.2603242e-06],\n",
       "       [9.9999774e-01, 2.2603242e-06],\n",
       "       [9.9999774e-01, 2.2603242e-06],\n",
       "       [9.9999774e-01, 2.2603242e-06],\n",
       "       [9.9999774e-01, 2.2603242e-06],\n",
       "       [9.9999774e-01, 2.2603242e-06],\n",
       "       [9.9999774e-01, 2.2603242e-06],\n",
       "       [9.9999774e-01, 2.2603242e-06],\n",
       "       [9.9999774e-01, 2.2603242e-06],\n",
       "       [9.9999774e-01, 2.2603242e-06],\n",
       "       [9.9999774e-01, 2.2603242e-06],\n",
       "       [9.9999774e-01, 2.2603242e-06],\n",
       "       [9.9999774e-01, 2.2603242e-06],\n",
       "       [9.9999774e-01, 2.2603242e-06],\n",
       "       [9.9999774e-01, 2.2603242e-06],\n",
       "       [9.9999917e-01, 8.3152804e-07],\n",
       "       [9.9999917e-01, 8.3152804e-07],\n",
       "       [9.9999774e-01, 2.2603242e-06],\n",
       "       [9.9999774e-01, 2.2603242e-06],\n",
       "       [9.9999774e-01, 2.2603242e-06],\n",
       "       [9.9999774e-01, 2.2603242e-06],\n",
       "       [9.9999774e-01, 2.2603242e-06],\n",
       "       [9.9999774e-01, 2.2603242e-06],\n",
       "       [9.9999774e-01, 2.2603242e-06],\n",
       "       [9.9999774e-01, 2.2603242e-06],\n",
       "       [9.9999774e-01, 2.2603242e-06],\n",
       "       [9.9999774e-01, 2.2603242e-06],\n",
       "       [9.9999774e-01, 2.2603242e-06],\n",
       "       [9.9999774e-01, 2.2603242e-06],\n",
       "       [9.9999774e-01, 2.2603242e-06],\n",
       "       [9.9999774e-01, 2.2603242e-06],\n",
       "       [9.9999774e-01, 2.2603242e-06],\n",
       "       [9.9999774e-01, 2.2603242e-06],\n",
       "       [9.9999774e-01, 2.2603242e-06],\n",
       "       [9.9999774e-01, 2.2603242e-06],\n",
       "       [9.9999774e-01, 2.2603242e-06],\n",
       "       [9.9999774e-01, 2.2603242e-06],\n",
       "       [9.9999774e-01, 2.2603242e-06],\n",
       "       [9.9999774e-01, 2.2603242e-06],\n",
       "       [9.9999774e-01, 2.2603242e-06],\n",
       "       [9.9999774e-01, 2.2603242e-06],\n",
       "       [9.9999774e-01, 2.2603242e-06],\n",
       "       [9.9999774e-01, 2.2603242e-06],\n",
       "       [9.9999774e-01, 2.2603242e-06],\n",
       "       [9.9999774e-01, 2.2603242e-06],\n",
       "       [9.9999774e-01, 2.2603242e-06],\n",
       "       [9.9999774e-01, 2.2603242e-06],\n",
       "       [9.9999917e-01, 8.3152804e-07],\n",
       "       [9.9999917e-01, 8.3152804e-07],\n",
       "       [9.9999774e-01, 2.2603242e-06],\n",
       "       [9.9999774e-01, 2.2603242e-06],\n",
       "       [9.9999774e-01, 2.2603242e-06],\n",
       "       [9.9999774e-01, 2.2603242e-06],\n",
       "       [9.9999774e-01, 2.2603242e-06],\n",
       "       [9.9999774e-01, 2.2603242e-06],\n",
       "       [9.9999774e-01, 2.2603242e-06],\n",
       "       [9.9999774e-01, 2.2603242e-06],\n",
       "       [9.9999774e-01, 2.2603242e-06],\n",
       "       [9.9999774e-01, 2.2603242e-06],\n",
       "       [9.9999774e-01, 2.2603242e-06],\n",
       "       [9.9999774e-01, 2.2603242e-06],\n",
       "       [9.9999774e-01, 2.2603242e-06],\n",
       "       [9.9999774e-01, 2.2603242e-06],\n",
       "       [9.9999774e-01, 2.2603242e-06],\n",
       "       [9.9999774e-01, 2.2603242e-06],\n",
       "       [9.9999774e-01, 2.2603242e-06],\n",
       "       [9.9999774e-01, 2.2603242e-06],\n",
       "       [9.9999774e-01, 2.2603242e-06],\n",
       "       [9.9999774e-01, 2.2603242e-06],\n",
       "       [9.9999774e-01, 2.2603242e-06],\n",
       "       [9.9999774e-01, 2.2603242e-06],\n",
       "       [9.9999774e-01, 2.2603242e-06],\n",
       "       [9.9999774e-01, 2.2603242e-06],\n",
       "       [9.9999774e-01, 2.2603242e-06],\n",
       "       [9.9999774e-01, 2.2603242e-06],\n",
       "       [9.9999774e-01, 2.2603242e-06],\n",
       "       [9.9999774e-01, 2.2603242e-06],\n",
       "       [9.9999774e-01, 2.2603242e-06],\n",
       "       [9.9999774e-01, 2.2603242e-06],\n",
       "       [9.9999917e-01, 8.3152804e-07],\n",
       "       [9.9999917e-01, 8.3152804e-07],\n",
       "       [9.9999774e-01, 2.2603242e-06],\n",
       "       [9.9999774e-01, 2.2603242e-06],\n",
       "       [9.9999774e-01, 2.2603242e-06],\n",
       "       [9.9999774e-01, 2.2603242e-06],\n",
       "       [9.9999774e-01, 2.2603242e-06],\n",
       "       [9.9999774e-01, 2.2603242e-06],\n",
       "       [9.9999774e-01, 2.2603242e-06],\n",
       "       [9.9999774e-01, 2.2603242e-06],\n",
       "       [9.9999774e-01, 2.2603242e-06],\n",
       "       [9.9999774e-01, 2.2603242e-06],\n",
       "       [9.9999774e-01, 2.2603242e-06],\n",
       "       [9.9999774e-01, 2.2603242e-06],\n",
       "       [9.9999774e-01, 2.2603242e-06],\n",
       "       [9.9999774e-01, 2.2603242e-06],\n",
       "       [9.9999774e-01, 2.2603242e-06],\n",
       "       [9.9999774e-01, 2.2603242e-06],\n",
       "       [9.9999774e-01, 2.2603242e-06],\n",
       "       [9.9999774e-01, 2.2603242e-06],\n",
       "       [9.9999774e-01, 2.2603242e-06],\n",
       "       [9.9999774e-01, 2.2603242e-06],\n",
       "       [9.9999774e-01, 2.2603242e-06],\n",
       "       [9.9999774e-01, 2.2603242e-06],\n",
       "       [9.9999774e-01, 2.2603242e-06],\n",
       "       [9.9999774e-01, 2.2603242e-06],\n",
       "       [9.9999774e-01, 2.2603242e-06],\n",
       "       [9.9999774e-01, 2.2603242e-06],\n",
       "       [9.9999774e-01, 2.2603242e-06],\n",
       "       [9.9999774e-01, 2.2603242e-06],\n",
       "       [9.9999774e-01, 2.2603242e-06],\n",
       "       [9.9999774e-01, 2.2603242e-06],\n",
       "       [9.9999917e-01, 8.3152804e-07],\n",
       "       [9.9999917e-01, 8.3152804e-07],\n",
       "       [9.9999774e-01, 2.2603242e-06],\n",
       "       [9.9999774e-01, 2.2603242e-06],\n",
       "       [9.9999774e-01, 2.2603242e-06],\n",
       "       [9.9999774e-01, 2.2603242e-06],\n",
       "       [9.9999774e-01, 2.2603242e-06],\n",
       "       [9.9999774e-01, 2.2603242e-06],\n",
       "       [9.9999774e-01, 2.2603242e-06],\n",
       "       [9.9999774e-01, 2.2603242e-06],\n",
       "       [9.9999774e-01, 2.2603242e-06],\n",
       "       [9.9999774e-01, 2.2603242e-06],\n",
       "       [9.9999774e-01, 2.2603242e-06],\n",
       "       [9.9999774e-01, 2.2603242e-06],\n",
       "       [9.9999774e-01, 2.2603242e-06],\n",
       "       [9.9999774e-01, 2.2603242e-06],\n",
       "       [9.9999774e-01, 2.2603242e-06],\n",
       "       [9.9999774e-01, 2.2603242e-06],\n",
       "       [9.9999774e-01, 2.2603242e-06],\n",
       "       [9.9999774e-01, 2.2603242e-06],\n",
       "       [9.9999774e-01, 2.2603242e-06],\n",
       "       [9.9999774e-01, 2.2603242e-06],\n",
       "       [9.9999774e-01, 2.2603242e-06],\n",
       "       [9.9999774e-01, 2.2603242e-06],\n",
       "       [9.9999774e-01, 2.2603242e-06],\n",
       "       [9.9999774e-01, 2.2603242e-06],\n",
       "       [9.9999774e-01, 2.2603242e-06],\n",
       "       [9.9999774e-01, 2.2603242e-06],\n",
       "       [9.9999774e-01, 2.2603242e-06],\n",
       "       [9.9999774e-01, 2.2603242e-06],\n",
       "       [9.9999774e-01, 2.2603242e-06],\n",
       "       [9.9999774e-01, 2.2603242e-06],\n",
       "       [9.9999917e-01, 8.3152804e-07],\n",
       "       [9.9999917e-01, 8.3152804e-07],\n",
       "       [9.9999774e-01, 2.2603242e-06],\n",
       "       [9.9999774e-01, 2.2603242e-06],\n",
       "       [9.9999774e-01, 2.2603242e-06],\n",
       "       [9.9999774e-01, 2.2603242e-06],\n",
       "       [9.9999774e-01, 2.2603242e-06],\n",
       "       [9.9999774e-01, 2.2603242e-06],\n",
       "       [9.9999774e-01, 2.2603242e-06],\n",
       "       [9.9999774e-01, 2.2603242e-06],\n",
       "       [9.9999774e-01, 2.2603242e-06],\n",
       "       [9.9999774e-01, 2.2603242e-06],\n",
       "       [9.9999774e-01, 2.2603242e-06],\n",
       "       [9.9999774e-01, 2.2603242e-06],\n",
       "       [9.9999774e-01, 2.2603242e-06],\n",
       "       [9.9999774e-01, 2.2603242e-06],\n",
       "       [9.9999774e-01, 2.2603242e-06],\n",
       "       [9.9999774e-01, 2.2603242e-06],\n",
       "       [9.9999774e-01, 2.2603242e-06],\n",
       "       [9.9999774e-01, 2.2603242e-06]], dtype=float32)"
      ]
     },
     "execution_count": 82,
     "metadata": {},
     "output_type": "execute_result"
    }
   ],
   "source": [
    "pred1 = model1.predict(testPad1)\n",
    "pred1"
   ]
  },
  {
   "cell_type": "code",
   "execution_count": 83,
   "metadata": {},
   "outputs": [
    {
     "data": {
      "text/plain": [
       "array([[0., 0., 0.],\n",
       "       [0., 0., 0.],\n",
       "       [0., 0., 0.],\n",
       "       ...,\n",
       "       [0., 0., 0.],\n",
       "       [1., 0., 0.],\n",
       "       [1., 0., 0.]], dtype=float32)"
      ]
     },
     "execution_count": 83,
     "metadata": {},
     "output_type": "execute_result"
    }
   ],
   "source": [
    "testLabel = tf.one_hot(test_labelNum.to_numpy(),3).numpy()\n",
    "testLabel"
   ]
  },
  {
   "cell_type": "code",
   "execution_count": 90,
   "metadata": {},
   "outputs": [
    {
     "data": {
      "text/plain": [
       "(array([[0., 0., 0.],\n",
       "        [0., 0., 0.],\n",
       "        [0., 0., 0.],\n",
       "        ...,\n",
       "        [0., 0., 0.],\n",
       "        [1., 0., 0.],\n",
       "        [1., 0., 0.]], dtype=float32),\n",
       " 0      4\n",
       " 1      4\n",
       " 2      4\n",
       " 3      4\n",
       " 4      4\n",
       "       ..\n",
       " 493    2\n",
       " 494    0\n",
       " 495    4\n",
       " 496    0\n",
       " 497    0\n",
       " Name: label, Length: 498, dtype: int64)"
      ]
     },
     "execution_count": 90,
     "metadata": {},
     "output_type": "execute_result"
    }
   ],
   "source": [
    "testLabel,test_labelNum\n",
    "#4: [0,0,0]\n",
    "#2: [0,0,1]\n",
    "#0: [1,0,0]"
   ]
  },
  {
   "cell_type": "code",
   "execution_count": 85,
   "metadata": {},
   "outputs": [
    {
     "data": {
      "text/plain": [
       "(array([[0., 0.],\n",
       "        [1., 0.],\n",
       "        [0., 0.],\n",
       "        ...,\n",
       "        [1., 0.],\n",
       "        [0., 0.],\n",
       "        [0., 0.]], dtype=float32),\n",
       " 1545897    4\n",
       " 141842     0\n",
       " 1245796    4\n",
       " 785684     0\n",
       " 784358     0\n",
       "           ..\n",
       " 1146260    4\n",
       " 1198472    4\n",
       " 358495     0\n",
       " 891790     4\n",
       " 931128     4\n",
       " Name: label, Length: 1440000, dtype: int64)"
      ]
     },
     "execution_count": 85,
     "metadata": {},
     "output_type": "execute_result"
    }
   ],
   "source": [
    "trainLabel,train_labelNum"
   ]
  },
  {
   "cell_type": "code",
   "execution_count": 96,
   "metadata": {},
   "outputs": [],
   "source": [
    "def transformPred(nparr):\n",
    "    output = []\n",
    "    for item in nparr:\n",
    "        if np.argmax(item) == 0:\n",
    "            if item[0]>=0.6:\n",
    "                output.append(0)\n",
    "            else:\n",
    "                if \n",
    "                output.append(2)\n",
    "        else:\n",
    "                output.append([0])\n",
    "            else:\n",
    "                output.append([0,0,1])\n",
    "        \n",
    "    return np.array(output)"
   ]
  },
  {
   "cell_type": "code",
   "execution_count": 99,
   "metadata": {},
   "outputs": [
    {
     "data": {
      "text/plain": [
       "0.3654618473895582"
      ]
     },
     "execution_count": 99,
     "metadata": {},
     "output_type": "execute_result"
    }
   ],
   "source": [
    "import sklearn\n",
    "import sklearn.metrics\n",
    "pred1_t = transformPred(pred1)\n",
    "\n",
    "#sklearn.metrics.confusion_matrix(testLabel,pred1_t),\\\n",
    "sklearn.metrics.accuracy_score(testLabel,pred1_t)"
   ]
  },
  {
   "cell_type": "code",
   "execution_count": 113,
   "metadata": {},
   "outputs": [],
   "source": [
    "#issue: way too overfit and need clean the input data\n",
    "# replacing 4 into 1 to truly achieve the binary sentiment analysis\n",
    "# will introduce threshold later\n",
    "miniTrain = trainSet[:35000].copy()"
   ]
  },
  {
   "cell_type": "code",
   "execution_count": 114,
   "metadata": {},
   "outputs": [],
   "source": [
    "tminiLabel = train_labelNum[:35000].copy()"
   ]
  },
  {
   "cell_type": "code",
   "execution_count": 115,
   "metadata": {},
   "outputs": [
    {
     "data": {
      "text/plain": [
       "(0    17631\n",
       " 4    17369\n",
       " Name: label, dtype: int64,\n",
       " 0    8758\n",
       " 4    8742\n",
       " Name: label, dtype: int64)"
      ]
     },
     "execution_count": 115,
     "metadata": {},
     "output_type": "execute_result"
    }
   ],
   "source": [
    "tminiLabel.value_counts(),vminiLabel.value_counts()"
   ]
  },
  {
   "cell_type": "code",
   "execution_count": 116,
   "metadata": {},
   "outputs": [],
   "source": [
    "minivalid = validSet[:17500].copy()\n",
    "vminiLabel = valid_labelNum[:17500].copy()\n"
   ]
  },
  {
   "cell_type": "code",
   "execution_count": 117,
   "metadata": {},
   "outputs": [
    {
     "data": {
      "text/plain": [
       "(1545897    4\n",
       " 141842     0\n",
       " 1245796    4\n",
       " 785684     0\n",
       " 784358     0\n",
       "           ..\n",
       " 173424     0\n",
       " 473979     0\n",
       " 489592     0\n",
       " 1480534    4\n",
       " 649833     0\n",
       " Name: label, Length: 35000, dtype: int64,\n",
       " 1578239    4\n",
       " 285524     0\n",
       " 1129823    4\n",
       " 1594219    4\n",
       " 1292100    4\n",
       "           ..\n",
       " 1195316    4\n",
       " 426888     0\n",
       " 10102      0\n",
       " 211778     0\n",
       " 597913     0\n",
       " Name: label, Length: 17500, dtype: int64)"
      ]
     },
     "execution_count": 117,
     "metadata": {},
     "output_type": "execute_result"
    }
   ],
   "source": [
    "tminiLabel,vminiLabel"
   ]
  },
  {
   "cell_type": "code",
   "execution_count": 118,
   "metadata": {},
   "outputs": [
    {
     "data": {
      "text/plain": [
       "(1545897    1\n",
       " 141842     0\n",
       " 1245796    1\n",
       " 785684     0\n",
       " 784358     0\n",
       "           ..\n",
       " 173424     0\n",
       " 473979     0\n",
       " 489592     0\n",
       " 1480534    1\n",
       " 649833     0\n",
       " Name: label, Length: 35000, dtype: int64,\n",
       " 1578239    1\n",
       " 285524     0\n",
       " 1129823    1\n",
       " 1594219    1\n",
       " 1292100    1\n",
       "           ..\n",
       " 1195316    1\n",
       " 426888     0\n",
       " 10102      0\n",
       " 211778     0\n",
       " 597913     0\n",
       " Name: label, Length: 17500, dtype: int64)"
      ]
     },
     "execution_count": 118,
     "metadata": {},
     "output_type": "execute_result"
    }
   ],
   "source": [
    "vminiLabel.replace({4:1},inplace=True)\n",
    "tminiLabel.replace({4:1},inplace=True)\n",
    "tminiLabel,vminiLabel"
   ]
  },
  {
   "cell_type": "code",
   "execution_count": 273,
   "metadata": {},
   "outputs": [
    {
     "name": "stderr",
     "output_type": "stream",
     "text": [
      "[nltk_data] Downloading package stopwords to\n",
      "[nltk_data]     C:\\Users\\JimmyGan\\AppData\\Roaming\\nltk_data...\n",
      "[nltk_data]   Package stopwords is already up-to-date!\n"
     ]
    }
   ],
   "source": [
    "# data cleaning then redo the tokenizer baseline\n",
    "import re,nltk,string\n",
    "nltk.download('stopwords')\n",
    "from nltk.corpus import stopwords\n",
    "stop_words = stopwords.words(\"english\")\n",
    "def text_clean(x):\n",
    "    x = x.lower()\n",
    "    x = ' '.join([m for m in x.split(' ') if m not in stop_words])\n",
    "    x = x.encode('ascii','ignore').decode()## characters that ascii not recognized like emoji\n",
    "    x = re.sub(r'@\\S+', ' ', x)## @ handler\n",
    "    x = re.sub(r'#\\S+', ' ', x)## hashtag\n",
    "    x = re.sub(r'\\'\\w+', '', x)## ticks\n",
    "    x = re.sub(\"https*\\S+\", \" \", x)## http link\n",
    "    x = re.sub('[%s]' % re.escape(string.punctuation), ' ', x)\n",
    "    x = re.sub(r'\\w*\\d+\\w*', '', x)## numbers\n",
    "    x = re.sub(r'\\s{2,}', ' ', x)## double space\n",
    "    return x\n",
    "\n",
    "trainClean = miniTrain.text.apply(text_clean)\n",
    "validClean = minivalid.text.apply(text_clean)"
   ]
  },
  {
   "cell_type": "code",
   "execution_count": 274,
   "metadata": {},
   "outputs": [],
   "source": [
    "token2 = Tokenizer(num_words = 2500,lower=True, split=\" \", char_level=False,oov_token = 'OOV')\n",
    "token2.fit_on_texts(trainClean)\n",
    "\n",
    "trainSeq2 = token2.texts_to_sequences(trainClean)\n",
    "trainPad2 = pad_sequences(trainSeq2,maxlen = 100,padding = 'pre',truncating = 'pre')\n",
    "\n",
    "validSeq2 = token2.texts_to_sequences(validClean)\n",
    "validPad2 = pad_sequences(validSeq2,maxlen = 100,padding = 'pre',truncating = 'pre')"
   ]
  },
  {
   "cell_type": "code",
   "execution_count": 278,
   "metadata": {},
   "outputs": [
    {
     "name": "stdout",
     "output_type": "stream",
     "text": [
      "Model: \"sequential_15\"\n",
      "_________________________________________________________________\n",
      "Layer (type)                 Output Shape              Param #   \n",
      "=================================================================\n",
      "embedding (Embedding)        (None, 100, 32)           80000     \n",
      "_________________________________________________________________\n",
      "bidirectional_34 (Bidirectio (None, 64)                16640     \n",
      "_________________________________________________________________\n",
      "dense_30 (Dense)             (None, 32)                2080      \n",
      "_________________________________________________________________\n",
      "dropout_11 (Dropout)         (None, 32)                0         \n",
      "_________________________________________________________________\n",
      "dense_31 (Dense)             (None, 2)                 66        \n",
      "=================================================================\n",
      "Total params: 98,786\n",
      "Trainable params: 98,786\n",
      "Non-trainable params: 0\n",
      "_________________________________________________________________\n"
     ]
    }
   ],
   "source": [
    "model2 = tf.keras.Sequential([\n",
    "    tf.keras.layers.Embedding(2500,output_dim = 32, input_length = 100,name=\"embedding\",mask_zero=False),\n",
    "   # tf.keras.layers.Bidirectional(tf.keras.layers.LSTM(32,return_sequences=True)),\n",
    "    tf.keras.layers.Bidirectional(tf.keras.layers.LSTM(32,return_sequences=False)),\n",
    "    tf.keras.layers.Dense(32, activation = 'relu'),\n",
    "    tf.keras.layers.Dropout(0.1),\n",
    "    tf.keras.layers.Dense(2,activation='softmax'),\n",
    "    \n",
    "])\n",
    "\n",
    "model2.compile(optimizer = 'adam',loss = tf.keras.losses.CategoricalCrossentropy(from_logits=False),metrics=['accuracy'])\n",
    "model2.summary()"
   ]
  },
  {
   "cell_type": "code",
   "execution_count": 279,
   "metadata": {},
   "outputs": [
    {
     "data": {
      "text/plain": [
       "35000"
      ]
     },
     "execution_count": 279,
     "metadata": {},
     "output_type": "execute_result"
    }
   ],
   "source": [
    "\n",
    "train_lab2 = tf.one_hot(tminiLabel.to_numpy() , 2).numpy()\n",
    "valid_lab2 =  tf.one_hot(vminiLabel.to_numpy(),2).numpy()\n",
    "len(trainPad2)"
   ]
  },
  {
   "cell_type": "code",
   "execution_count": 280,
   "metadata": {},
   "outputs": [
    {
     "name": "stdout",
     "output_type": "stream",
     "text": [
      "Epoch 1/16\n",
      "547/547 [==============================] - 20s 29ms/step - loss: 0.6130 - accuracy: 0.6427 - val_loss: 0.5117 - val_accuracy: 0.7510\n",
      "Epoch 2/16\n",
      "547/547 [==============================] - 14s 25ms/step - loss: 0.4817 - accuracy: 0.7740 - val_loss: 0.5065 - val_accuracy: 0.7502\n",
      "Epoch 3/16\n",
      "547/547 [==============================] - 14s 25ms/step - loss: 0.4594 - accuracy: 0.7837 - val_loss: 0.5085 - val_accuracy: 0.7526\n",
      "Epoch 4/16\n",
      "547/547 [==============================] - 14s 25ms/step - loss: 0.4353 - accuracy: 0.7954 - val_loss: 0.5169 - val_accuracy: 0.7505\n",
      "Epoch 5/16\n",
      "547/547 [==============================] - 14s 25ms/step - loss: 0.4157 - accuracy: 0.8042 - val_loss: 0.5464 - val_accuracy: 0.7448\n",
      "Epoch 6/16\n",
      "547/547 [==============================] - 14s 25ms/step - loss: 0.3893 - accuracy: 0.8176 - val_loss: 0.5512 - val_accuracy: 0.7344\n",
      "Epoch 7/16\n",
      "547/547 [==============================] - 14s 25ms/step - loss: 0.3715 - accuracy: 0.8215 - val_loss: 0.5951 - val_accuracy: 0.7298\n",
      "Epoch 8/16\n",
      "547/547 [==============================] - 14s 25ms/step - loss: 0.3595 - accuracy: 0.8275 - val_loss: 0.6468 - val_accuracy: 0.7317\n",
      "Epoch 9/16\n",
      "547/547 [==============================] - 14s 25ms/step - loss: 0.3376 - accuracy: 0.8301 - val_loss: 0.6832 - val_accuracy: 0.7253\n",
      "Epoch 10/16\n",
      "547/547 [==============================] - 14s 25ms/step - loss: 0.3189 - accuracy: 0.8397 - val_loss: 0.7697 - val_accuracy: 0.7167\n",
      "Epoch 11/16\n",
      "547/547 [==============================] - 14s 25ms/step - loss: 0.3045 - accuracy: 0.8501 - val_loss: 0.8046 - val_accuracy: 0.7188\n",
      "Epoch 12/16\n",
      "547/547 [==============================] - 14s 25ms/step - loss: 0.2903 - accuracy: 0.8528 - val_loss: 0.8707 - val_accuracy: 0.7137\n",
      "Epoch 13/16\n",
      "547/547 [==============================] - 14s 25ms/step - loss: 0.2781 - accuracy: 0.8600 - val_loss: 0.9399 - val_accuracy: 0.7039\n",
      "Epoch 14/16\n",
      "547/547 [==============================] - 14s 25ms/step - loss: 0.2621 - accuracy: 0.8691 - val_loss: 0.9809 - val_accuracy: 0.7023\n",
      "Epoch 15/16\n",
      "547/547 [==============================] - 14s 25ms/step - loss: 0.2531 - accuracy: 0.8721 - val_loss: 1.1145 - val_accuracy: 0.6997\n",
      "Epoch 16/16\n",
      "547/547 [==============================] - 14s 25ms/step - loss: 0.2383 - accuracy: 0.8807 - val_loss: 1.1409 - val_accuracy: 0.6895\n"
     ]
    }
   ],
   "source": [
    "tsb_callback = tf.keras.callbacks.TensorBoard(log_dir=\"logs\")\n",
    "hist2 = model2.fit(trainPad2,train_lab2,epochs=16,batch_size=64,\n",
    "          validation_data=(validPad2,valid_lab2),\n",
    "           callbacks = [tsb_callback]\n",
    "          )"
   ]
  },
  {
   "cell_type": "code",
   "execution_count": 281,
   "metadata": {},
   "outputs": [
    {
     "data": {
      "image/png": "[encoded data removed]",
      "text/plain": [
       "<Figure size 432x288 with 1 Axes>"
      ]
     },
     "metadata": {
      "needs_background": "light"
     },
     "output_type": "display_data"
    },
    {
     "data": {
      "image/png": "[encoded data removed]",
      "text/plain": [
       "<Figure size 432x288 with 1 Axes>"
      ]
     },
     "metadata": {
      "needs_background": "light"
     },
     "output_type": "display_data"
    }
   ],
   "source": [
    "plt.plot(hist2.history['accuracy'])\n",
    "plt.plot(hist2.history['val_accuracy'])\n",
    "plt.title('model accuracy')\n",
    "plt.ylabel('accuracy')\n",
    "plt.xlabel('epoch')\n",
    "plt.legend(['train', 'test'], loc='upper left')\n",
    "plt.show()\n",
    "\n",
    "plt.plot(hist2.history['loss'])\n",
    "plt.plot(hist2.history['val_loss'])\n",
    "plt.title('model loss')\n",
    "plt.ylabel('loss')\n",
    "plt.xlabel('epoch')\n",
    "plt.legend(['train', 'test'], loc='upper left')\n",
    "plt.show()"
   ]
  },
  {
   "cell_type": "markdown",
   "metadata": {},
   "source": [
    "it still has the problem of overfitting the training data"
   ]
  },
  {
   "cell_type": "code",
   "execution_count": 282,
   "metadata": {},
   "outputs": [],
   "source": [
    "testClean = testSet.apply(text_clean)\n",
    "testSeq2 = token2.texts_to_sequences(testClean)\n",
    "testPad2 = pad_sequences(testSeq2,maxlen = 100,padding = 'pre',truncating = 'pre')\n",
    "pred2=model2.predict(testPad2)"
   ]
  },
  {
   "cell_type": "code",
   "execution_count": 283,
   "metadata": {},
   "outputs": [],
   "source": [
    "def translate(resarr, cutoff):\n",
    "    output = []\n",
    "    for item in resarr:\n",
    "        if item[0] == item[1]:\n",
    "            output.append(2)\n",
    "            continue\n",
    "        if item[0]<=cutoff and item[1]<=cutoff:\n",
    "            output.append(2)\n",
    "        else:\n",
    "            if np.argmax(item) == 0:\n",
    "                output.append(0)\n",
    "            else:\n",
    "                output.append(4)\n",
    "    return np.array(output)\n"
   ]
  },
  {
   "cell_type": "code",
   "execution_count": 284,
   "metadata": {},
   "outputs": [],
   "source": [
    "test2 = test_labelNum.copy()\n",
    "test2 = test2.to_numpy()"
   ]
  },
  {
   "cell_type": "code",
   "execution_count": 285,
   "metadata": {},
   "outputs": [
    {
     "data": {
      "text/plain": [
       "(array([[116,   0,  61],\n",
       "        [ 33,   0, 106],\n",
       "        [ 41,   0, 141]], dtype=int64),\n",
       " 0.5160642570281124)"
      ]
     },
     "execution_count": 285,
     "metadata": {},
     "output_type": "execute_result"
    }
   ],
   "source": [
    "sklearn.metrics.confusion_matrix(test2,translate(pred2,0.5)),\\\n",
    "sklearn.metrics.accuracy_score(test2,translate(pred2,0.5))"
   ]
  },
  {
   "cell_type": "code",
   "execution_count": 163,
   "metadata": {},
   "outputs": [
    {
     "data": {
      "text/plain": [
       "2"
      ]
     },
     "execution_count": 163,
     "metadata": {},
     "output_type": "execute_result"
    }
   ],
   "source": [
    "test_labelNum[493]\n"
   ]
  },
  {
   "cell_type": "code",
   "execution_count": 167,
   "metadata": {},
   "outputs": [
    {
     "data": {
      "text/plain": [
       "'Ask Programming: LaTeX or InDesign?: submitted by calcio1 [link] [1 comment] http://tinyurl.com/myfmf7'"
      ]
     },
     "execution_count": 167,
     "metadata": {},
     "output_type": "execute_result"
    }
   ],
   "source": [
    "testSet[493]"
   ]
  },
  {
   "cell_type": "code",
   "execution_count": 172,
   "metadata": {},
   "outputs": [
    {
     "data": {
      "text/plain": [
       "0.5140562248995983"
      ]
     },
     "execution_count": 172,
     "metadata": {},
     "output_type": "execute_result"
    }
   ],
   "source": [
    "sklearn.metrics.f1_score(test2,translate(pred2,0.5),average='micro')"
   ]
  },
  {
   "cell_type": "code",
   "execution_count": 215,
   "metadata": {},
   "outputs": [
    {
     "name": "stdout",
     "output_type": "stream",
     "text": [
      "Model: \"sequential_12\"\n",
      "_________________________________________________________________\n",
      "Layer (type)                 Output Shape              Param #   \n",
      "=================================================================\n",
      "embedding (Embedding)        (None, 80, 32)            80000     \n",
      "_________________________________________________________________\n",
      "bidirectional_28 (Bidirectio (None, 80, 64)            16640     \n",
      "_________________________________________________________________\n",
      "bidirectional_29 (Bidirectio (None, 64)                24832     \n",
      "_________________________________________________________________\n",
      "dense_24 (Dense)             (None, 32)                2080      \n",
      "_________________________________________________________________\n",
      "dropout_8 (Dropout)          (None, 32)                0         \n",
      "_________________________________________________________________\n",
      "dense_25 (Dense)             (None, 2)                 66        \n",
      "=================================================================\n",
      "Total params: 123,618\n",
      "Trainable params: 123,618\n",
      "Non-trainable params: 0\n",
      "_________________________________________________________________\n"
     ]
    }
   ],
   "source": [
    "model3 = tf.keras.Sequential([\n",
    "    tf.keras.layers.Embedding(2500,output_dim = 32, input_length = 80,name=\"embedding\",mask_zero=False),\n",
    "    tf.keras.layers.Bidirectional(tf.keras.layers.LSTM(32,return_sequences=True)),\n",
    "    tf.keras.layers.Bidirectional(tf.keras.layers.LSTM(32,return_sequences=False)),\n",
    "    tf.keras.layers.Dense(32, activation = 'relu'),\n",
    "    tf.keras.layers.Dropout(0.1),\n",
    "    tf.keras.layers.Dense(2,activation='softmax'),\n",
    "    \n",
    "])\n",
    "opt = tf.keras.optimizers.Adam(learning_rate = 0.0005,name ='Adam')\n",
    "model3.compile(optimizer = 'adam',loss = tf.keras.losses.CategoricalCrossentropy(from_logits=False),metrics=['accuracy'])\n",
    "model3.summary()"
   ]
  },
  {
   "cell_type": "code",
   "execution_count": 216,
   "metadata": {},
   "outputs": [],
   "source": [
    "trainClean = trainSet.text.apply(text_clean)\n",
    "\n",
    "validClean = validSet.text.apply(text_clean)\n",
    "token3 = Tokenizer(num_words = 2500,oov_token = 'OOV')\n",
    "token3.fit_on_texts(trainClean)\n",
    "trainSeqfull = token3.texts_to_sequences(trainClean)\n",
    "trainPadfull = pad_sequences(trainSeqfull,maxlen = 80,padding = 'pre',truncating = 'pre')\n",
    "\n",
    "validSeqfull = token3.texts_to_sequences(validClean)\n",
    "validPadfull = pad_sequences(validSeqfull,maxlen = 80,padding = 'pre',truncating = 'pre')\n",
    "\n",
    "tlbfull = train_labelNum.copy()\n",
    "vlbfull = valid_labelNum.copy()\n",
    "tlbfull.replace({4:1},inplace=True)\n",
    "vlbfull.replace({4:1},inplace=True)\n",
    "\n",
    "train_lab3 = tf.one_hot(tlbfull.to_numpy() , 2).numpy()\n",
    "valid_lab3 =  tf.one_hot(vlbfull.to_numpy(),2).numpy()"
   ]
  },
  {
   "cell_type": "code",
   "execution_count": 217,
   "metadata": {},
   "outputs": [
    {
     "name": "stdout",
     "output_type": "stream",
     "text": [
      "Epoch 1/16\n",
      "22500/22500 [==============================] - 653s 29ms/step - loss: 0.4948 - accuracy: 0.7551 - val_loss: 0.4644 - val_accuracy: 0.7752\n",
      "Epoch 2/16\n",
      "22500/22500 [==============================] - 644s 29ms/step - loss: 0.4609 - accuracy: 0.7782 - val_loss: 0.4566 - val_accuracy: 0.7800\n",
      "Epoch 3/16\n",
      "22500/22500 [==============================] - 643s 29ms/step - loss: 0.4502 - accuracy: 0.7844 - val_loss: 0.4544 - val_accuracy: 0.7826\n",
      "Epoch 4/16\n",
      "22500/22500 [==============================] - 642s 29ms/step - loss: 0.4430 - accuracy: 0.7889 - val_loss: 0.4507 - val_accuracy: 0.7833\n",
      "Epoch 5/16\n",
      "22500/22500 [==============================] - 643s 29ms/step - loss: 0.4375 - accuracy: 0.7920 - val_loss: 0.4519 - val_accuracy: 0.7827\n",
      "Epoch 6/16\n",
      "22500/22500 [==============================] - 643s 29ms/step - loss: 0.4325 - accuracy: 0.7951 - val_loss: 0.4511 - val_accuracy: 0.7853\n",
      "Epoch 7/16\n",
      "22500/22500 [==============================] - 643s 29ms/step - loss: 0.4274 - accuracy: 0.7980 - val_loss: 0.4513 - val_accuracy: 0.7843\n",
      "Epoch 8/16\n",
      "22500/22500 [==============================] - 643s 29ms/step - loss: 0.4226 - accuracy: 0.8012 - val_loss: 0.4520 - val_accuracy: 0.7844\n",
      "Epoch 9/16\n",
      "22500/22500 [==============================] - 644s 29ms/step - loss: 0.4186 - accuracy: 0.8032 - val_loss: 0.4563 - val_accuracy: 0.7829\n",
      "Epoch 10/16\n",
      "22500/22500 [==============================] - 643s 29ms/step - loss: 0.4155 - accuracy: 0.8046 - val_loss: 0.4566 - val_accuracy: 0.7816\n",
      "Epoch 11/16\n",
      "22500/22500 [==============================] - 643s 29ms/step - loss: 0.4109 - accuracy: 0.8074 - val_loss: 0.4574 - val_accuracy: 0.7813\n",
      "Epoch 12/16\n",
      "22500/22500 [==============================] - 643s 29ms/step - loss: 0.4078 - accuracy: 0.8096 - val_loss: 0.4633 - val_accuracy: 0.7804\n",
      "Epoch 13/16\n",
      "22500/22500 [==============================] - 642s 29ms/step - loss: 0.4043 - accuracy: 0.8115 - val_loss: 0.4616 - val_accuracy: 0.7800\n",
      "Epoch 14/16\n",
      "22500/22500 [==============================] - 642s 29ms/step - loss: 0.4013 - accuracy: 0.8125 - val_loss: 0.4642 - val_accuracy: 0.7789\n",
      "Epoch 15/16\n",
      "22500/22500 [==============================] - 642s 29ms/step - loss: 0.3993 - accuracy: 0.8146 - val_loss: 0.4709 - val_accuracy: 0.7770\n",
      "Epoch 16/16\n",
      "22500/22500 [==============================] - 644s 29ms/step - loss: 0.3973 - accuracy: 0.8153 - val_loss: 0.4747 - val_accuracy: 0.7781\n"
     ]
    }
   ],
   "source": [
    "\n",
    "\n",
    "tsb_callback = tf.keras.callbacks.TensorBoard(log_dir=\"logs\")\n",
    "hist3 = model3.fit(trainPadfull,train_lab3,epochs=8,batch_size=32,\n",
    "          validation_data=(validPadfull,valid_lab3),\n",
    "           callbacks = [tsb_callback]\n",
    "          )"
   ]
  },
  {
   "cell_type": "code",
   "execution_count": 220,
   "metadata": {},
   "outputs": [],
   "source": [
    "testClean = testSet.apply(text_clean)\n",
    "testSeq3 = token3.texts_to_sequences(testClean)\n",
    "testPad3 = pad_sequences(testSeq3,maxlen = 80,padding = 'pre',truncating = 'pre')\n",
    "pred3=model3.predict(testPad3)\n"
   ]
  },
  {
   "cell_type": "code",
   "execution_count": 229,
   "metadata": {},
   "outputs": [
    {
     "data": {
      "text/plain": [
       "(array([[123,  24,  30],\n",
       "        [ 25,  34,  80],\n",
       "        [ 20,  18, 144]], dtype=int64),\n",
       " 0.6044176706827309)"
      ]
     },
     "execution_count": 229,
     "metadata": {},
     "output_type": "execute_result"
    }
   ],
   "source": [
    "sklearn.metrics.confusion_matrix(test2,translate(pred3,0.6)),\\\n",
    "sklearn.metrics.accuracy_score(test2,translate(pred3,0.6))"
   ]
  },
  {
   "cell_type": "code",
   "execution_count": 230,
   "metadata": {},
   "outputs": [],
   "source": [
    "def plothist(history):\n",
    "    plt.plot(history.history['accuracy'])\n",
    "    plt.plot(history.history['val_accuracy'])\n",
    "    plt.title('model accuracy')\n",
    "    plt.ylabel('accuracy')\n",
    "    plt.xlabel('epoch')\n",
    "    plt.legend(['train', 'test'], loc='upper left')\n",
    "    plt.show()\n",
    "    plt.plot(history.history['loss'])\n",
    "    plt.plot(history.history['val_loss'])\n",
    "    plt.title('model loss')\n",
    "    plt.ylabel('loss')\n",
    "    plt.xlabel('epoch')\n",
    "    plt.legend(['train', 'test'], loc='upper left')\n",
    "    plt.show()"
   ]
  },
  {
   "cell_type": "code",
   "execution_count": 231,
   "metadata": {
    "scrolled": true
   },
   "outputs": [
    {
     "data": {
      "image/png": "[encoded data removed]",
      "text/plain": [
       "<Figure size 432x288 with 1 Axes>"
      ]
     },
     "metadata": {
      "needs_background": "light"
     },
     "output_type": "display_data"
    },
    {
     "data": {
      "image/png": "[encoded data removed]",
      "text/plain": [
       "<Figure size 432x288 with 1 Axes>"
      ]
     },
     "metadata": {
      "needs_background": "light"
     },
     "output_type": "display_data"
    }
   ],
   "source": [
    "plothist(hist3)"
   ]
  },
  {
   "cell_type": "code",
   "execution_count": 234,
   "metadata": {},
   "outputs": [
    {
     "name": "stdout",
     "output_type": "stream",
     "text": [
      "[0.03540772 0.96459234]\n",
      "[0.11904386 0.8809562 ]\n",
      "[0.18136497 0.81863505]\n",
      "[0.1132116 0.8867884]\n",
      "[0.55206347 0.44793648]\n",
      "[0.08941063 0.9105894 ]\n",
      "[0.08572751 0.9142725 ]\n",
      "[0.05659481 0.9434052 ]\n",
      "[0.18559338 0.81440663]\n",
      "[0.05915511 0.9408449 ]\n",
      "[0.05915512 0.9408449 ]\n",
      "[0.32716405 0.67283595]\n",
      "[0.31931672 0.68068326]\n",
      "[0.44209737 0.55790263]\n",
      "[0.9556553  0.04434473]\n",
      "[0.15367706 0.8463229 ]\n",
      "[0.52276206 0.4772379 ]\n",
      "[0.08384918 0.91615075]\n",
      "[0.14893088 0.85106915]\n",
      "[0.4110015 0.5889985]\n",
      "[0.02915245 0.97084755]\n",
      "[0.29450238 0.7054976 ]\n",
      "[0.03412197 0.965878  ]\n",
      "[0.09435873 0.90564126]\n",
      "[0.00929669 0.99070334]\n",
      "[0.02125345 0.9787466 ]\n",
      "[0.04831592 0.9516841 ]\n",
      "[0.44486788 0.5551322 ]\n",
      "[0.04554489 0.95445514]\n",
      "[0.46196434 0.5380357 ]\n",
      "[0.5399403 0.4600597]\n",
      "[0.3606934 0.6393066]\n",
      "[0.5313395 0.4686604]\n",
      "[0.3497245  0.65027547]\n",
      "[0.33858448 0.6614155 ]\n",
      "[0.75199896 0.24800102]\n",
      "[0.70998114 0.2900189 ]\n",
      "[0.1472131 0.8527869]\n",
      "[0.35602966 0.6439704 ]\n",
      "[0.4852797  0.51472026]\n",
      "[0.19670981 0.80329025]\n",
      "[0.52928275 0.4707172 ]\n",
      "[0.6817244 0.3182756]\n",
      "[0.0740205  0.92597955]\n",
      "[0.46358708 0.5364129 ]\n",
      "[0.5426785 0.4573215]\n",
      "[0.36759165 0.6324083 ]\n",
      "[0.95439315 0.04560685]\n",
      "[0.6347707  0.36522928]\n",
      "[0.01497131 0.98502874]\n",
      "[0.0477941  0.95220584]\n",
      "[0.16375652 0.8362435 ]\n",
      "[0.07854604 0.92145395]\n",
      "[0.7745824  0.22541761]\n",
      "[0.4270222 0.5729778]\n",
      "[0.43960392 0.56039613]\n",
      "[0.39400542 0.60599464]\n",
      "[0.38748828 0.61251175]\n",
      "[0.38748828 0.61251175]\n",
      "[0.5565117 0.4434883]\n",
      "[0.38748828 0.61251175]\n",
      "[0.03891969 0.9610803 ]\n",
      "[0.40209237 0.5979076 ]\n",
      "[0.8084269  0.19157308]\n",
      "[0.36959422 0.6304058 ]\n",
      "[0.19352172 0.80647826]\n",
      "[0.04943517 0.9505648 ]\n",
      "[0.9980261  0.00197391]\n",
      "[0.9264481  0.07355191]\n",
      "[0.4069939  0.59300613]\n",
      "[0.096251 0.903749]\n",
      "[0.2798529 0.7201471]\n",
      "[0.574816   0.42518404]\n",
      "[0.5400155  0.45998442]\n",
      "[0.22893348 0.7710665 ]\n",
      "[0.22440012 0.77559984]\n",
      "[0.01494564 0.9850544 ]\n",
      "[0.09592743 0.9040725 ]\n",
      "[0.13903879 0.86096126]\n",
      "[0.10381504 0.8961849 ]\n",
      "[0.94567955 0.05432045]\n",
      "[0.9153631  0.08463694]\n",
      "[0.3910628 0.6089372]\n",
      "[0.06644356 0.9335565 ]\n",
      "[0.3868145  0.61318547]\n",
      "[0.47160873 0.5283913 ]\n",
      "[0.19169007 0.8083099 ]\n",
      "[0.00967316 0.9903268 ]\n",
      "[0.10219759 0.8978024 ]\n",
      "[0.01960632 0.98039365]\n",
      "[0.2495309 0.750469 ]\n",
      "[0.36419073 0.63580924]\n",
      "[0.5736837  0.42631638]\n",
      "[0.56107354 0.43892643]\n",
      "[0.92013776 0.07986227]\n",
      "[0.10667861 0.89332145]\n",
      "[0.6888487 0.3111513]\n",
      "[0.8781924  0.12180758]\n",
      "[0.38335964 0.6166404 ]\n",
      "[0.14348131 0.8565187 ]\n",
      "[0.05131545 0.9486845 ]\n",
      "[0.17531464 0.8246854 ]\n",
      "[0.5596787 0.4403213]\n",
      "[0.9988071  0.00119294]\n",
      "[0.4270222 0.5729778]\n",
      "[0.46324566 0.5367543 ]\n",
      "[0.39358434 0.6064157 ]\n",
      "[0.52035886 0.47964114]\n",
      "[0.14055075 0.85944927]\n",
      "[0.6855014 0.3144986]\n",
      "[0.43817168 0.5618283 ]\n",
      "[0.6041247  0.39587522]\n",
      "[0.8917711  0.10822891]\n",
      "[0.20085557 0.79914445]\n",
      "[0.17822427 0.82177573]\n",
      "[0.02397938 0.9760206 ]\n",
      "[0.06299048 0.9370096 ]\n",
      "[0.40435603 0.59564394]\n",
      "[0.17389813 0.82610184]\n",
      "[0.782848 0.217152]\n",
      "[0.3742345 0.6257655]\n",
      "[0.56552863 0.4344714 ]\n",
      "[0.5870733  0.41292667]\n",
      "[0.11162543 0.8883745 ]\n",
      "[0.39106268 0.60893726]\n",
      "[0.697891   0.30210897]\n",
      "[0.42063716 0.57936287]\n",
      "[0.1599271  0.84007293]\n",
      "[0.54216826 0.4578317 ]\n",
      "[0.6589806 0.3410194]\n",
      "[0.28399944 0.71600056]\n",
      "[0.876044   0.12395605]\n",
      "[0.4986873 0.5013127]\n",
      "[0.49851173 0.50148827]\n",
      "[0.22043721 0.7795627 ]\n",
      "[0.6823912  0.31760877]\n",
      "[0.70004076 0.29995927]\n",
      "[0.24966842 0.7503316 ]\n",
      "[0.10596565 0.8940343 ]\n"
     ]
    }
   ],
   "source": [
    "idx_list = []\n",
    "for idx,item in enumerate(test2):\n",
    "    if item == 2:\n",
    "        idx_list.append(idx)\n",
    "for item in idx_list:\n",
    "    print(pred3[item])\n",
    "    "
   ]
  },
  {
   "cell_type": "code",
   "execution_count": 235,
   "metadata": {},
   "outputs": [
    {
     "data": {
      "text/plain": [
       "array([[123,  24,  30],\n",
       "       [ 25,  34,  80],\n",
       "       [ 20,  18, 144]], dtype=int64)"
      ]
     },
     "execution_count": 235,
     "metadata": {},
     "output_type": "execute_result"
    }
   ],
   "source": [
    "sklearn.metrics.confusion_matrix(test2,translate(pred3,0.6))"
   ]
  },
  {
   "cell_type": "markdown",
   "metadata": {},
   "source": [
    "baseline is not that bad on unseen neutral considering the fact that it has never been tested before but the positve/negative sentiment still have around 75% accuracy ignoring the neutral cases."
   ]
  },
  {
   "cell_type": "code",
   "execution_count": 312,
   "metadata": {},
   "outputs": [],
   "source": [
    "text = [\"why you acting you famous\"]\n",
    "\n",
    "txtseq = token3.texts_to_sequences(text)\n",
    "txtpad = pad_sequences(txtseq,maxlen = 80,padding = 'pre',truncating = 'pre')\n",
    "txtpred = model3.predict(txtpad)"
   ]
  },
  {
   "cell_type": "code",
   "execution_count": 313,
   "metadata": {},
   "outputs": [
    {
     "data": {
      "text/plain": [
       "array([[0.231001 , 0.7689989]], dtype=float32)"
      ]
     },
     "execution_count": 313,
     "metadata": {},
     "output_type": "execute_result"
    }
   ],
   "source": [
    "txtpred"
   ]
  }
 ],
 "metadata": {
  "kernelspec": {
   "display_name": "Python 3",
   "language": "python",
   "name": "python3"
  },
  "language_info": {
   "codemirror_mode": {
    "name": "ipython",
    "version": 3
   },
   "file_extension": ".py",
   "mimetype": "text/x-python",
   "name": "python",
   "nbconvert_exporter": "python",
   "pygments_lexer": "ipython3",
   "version": "3.7.5"
  }
 },
 "nbformat": 4,
 "nbformat_minor": 4
}
